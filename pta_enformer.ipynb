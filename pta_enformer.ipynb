{
 "cells": [
  {
   "cell_type": "markdown",
   "id": "4f5e25df-aca9-41c1-b9f4-e592b005f460",
   "metadata": {
    "tags": []
   },
   "source": [
    "## Pip installs"
   ]
  },
  {
   "cell_type": "code",
   "execution_count": null,
   "id": "663fa7f8-5f83-40c3-9792-882c40b9312a",
   "metadata": {
    "tags": []
   },
   "outputs": [],
   "source": [
    "!pip install torch"
   ]
  },
  {
   "cell_type": "code",
   "execution_count": null,
   "id": "a9bc3f67-cc87-4ac8-8ed1-d6a2ac1f10a4",
   "metadata": {
    "tags": []
   },
   "outputs": [],
   "source": [
    "!pip install transformers"
   ]
  },
  {
   "cell_type": "code",
   "execution_count": null,
   "id": "32b69fb5-19ea-4cab-96b5-22fb99f04f30",
   "metadata": {
    "tags": []
   },
   "outputs": [],
   "source": [
    "!pip install datasets"
   ]
  },
  {
   "cell_type": "code",
   "execution_count": null,
   "id": "e5c502e4-3bbf-4106-ba39-08b36abb817f",
   "metadata": {},
   "outputs": [],
   "source": [
    "!pip install pysam"
   ]
  },
  {
   "cell_type": "code",
   "execution_count": null,
   "id": "7cc08e69-7d8d-4368-805a-3d07968804f1",
   "metadata": {},
   "outputs": [],
   "source": [
    "!pip install HTSeq"
   ]
  },
  {
   "cell_type": "code",
   "execution_count": 5,
   "id": "0bc79d57-331b-4894-b306-7ea092a926f2",
   "metadata": {},
   "outputs": [],
   "source": [
    "!pip install enformer-pytorch>=0.5"
   ]
  },
  {
   "cell_type": "code",
   "execution_count": 3,
   "id": "dba1ede2-ccd6-433d-aed3-b7df13be183c",
   "metadata": {},
   "outputs": [
    {
     "name": "stdout",
     "output_type": "stream",
     "text": [
      "Collecting polars\n",
      "  Downloading polars-0.16.18-cp37-abi3-manylinux_2_17_x86_64.manylinux2014_x86_64.whl (16.4 MB)\n",
      "\u001b[2K     \u001b[90m━━━━━━━━━━━━━━━━━━━━━━━━━━━━━━━━━━━━━━━━\u001b[0m \u001b[32m16.4/16.4 MB\u001b[0m \u001b[31m30.8 MB/s\u001b[0m eta \u001b[36m0:00:00\u001b[0m00:01\u001b[0m00:01\u001b[0m\n",
      "\u001b[?25hRequirement already satisfied: typing_extensions>=4.0.1 in /home/groups/cgawad/conda_for_pf_notebook/miniconda3_for_pf/envs/pf/lib/python3.10/site-packages (from polars) (4.4.0)\n",
      "Installing collected packages: polars\n",
      "Successfully installed polars-0.16.18\n"
     ]
    }
   ],
   "source": [
    "!pip install polars"
   ]
  },
  {
   "cell_type": "code",
   "execution_count": 87,
   "id": "f4734ba7-c0d4-4f4e-8877-13a88bfcd174",
   "metadata": {},
   "outputs": [
    {
     "name": "stdout",
     "output_type": "stream",
     "text": [
      "Requirement already satisfied: scikit-learn in /home/groups/cgawad/conda_for_pf_notebook/miniconda3_for_pf/envs/pf/lib/python3.10/site-packages (1.2.0)\n",
      "Requirement already satisfied: joblib>=1.1.1 in /home/groups/cgawad/conda_for_pf_notebook/miniconda3_for_pf/envs/pf/lib/python3.10/site-packages (from scikit-learn) (1.2.0)\n",
      "Requirement already satisfied: threadpoolctl>=2.0.0 in /home/groups/cgawad/conda_for_pf_notebook/miniconda3_for_pf/envs/pf/lib/python3.10/site-packages (from scikit-learn) (3.1.0)\n",
      "Requirement already satisfied: scipy>=1.3.2 in /home/groups/cgawad/conda_for_pf_notebook/miniconda3_for_pf/envs/pf/lib/python3.10/site-packages (from scikit-learn) (1.10.0)\n",
      "Requirement already satisfied: numpy>=1.17.3 in /home/groups/cgawad/conda_for_pf_notebook/miniconda3_for_pf/envs/pf/lib/python3.10/site-packages (from scikit-learn) (1.23.5)\n"
     ]
    }
   ],
   "source": [
    "!pip install scikit-learn"
   ]
  },
  {
   "cell_type": "markdown",
   "id": "7c02d7ef-b040-4419-b0d0-c4a8178e6b84",
   "metadata": {
    "tags": []
   },
   "source": [
    "## Module imports and variable definitions"
   ]
  },
  {
   "cell_type": "code",
   "execution_count": 1,
   "id": "a1079afb-7b2c-4833-bc76-621e0f397109",
   "metadata": {},
   "outputs": [
    {
     "name": "stderr",
     "output_type": "stream",
     "text": [
      "/home/groups/cgawad/conda_for_pf_notebook/miniconda3_for_pf/envs/pf/lib/python3.10/site-packages/tqdm/auto.py:22: TqdmWarning: IProgress not found. Please update jupyter and ipywidgets. See https://ipywidgets.readthedocs.io/en/stable/user_install.html\n",
      "  from .autonotebook import tqdm as notebook_tqdm\n"
     ]
    }
   ],
   "source": [
    "import torch\n",
    "import polars as pl\n",
    "from enformer_pytorch import Enformer, GenomeIntervalDataset\n",
    "from datasets import concatenate_datasets, load_dataset\n",
    "import os\n",
    "import numpy as np"
   ]
  },
  {
   "cell_type": "code",
   "execution_count": 2,
   "id": "ec5a7935-f1d4-402e-89d4-583fcba9ed3a",
   "metadata": {
    "tags": []
   },
   "outputs": [],
   "source": [
    "### define variables\n",
    "hg38_bed_path = \"/scratch/users/sschulz/pta_on_normal/Homo_sapiens_assembly38_n25chr.bed\"\n",
    "bam_dir= \"/scratch/users/sschulz/pta_on_normal\"\n",
    "fasta_dir = bam_dir + '/fastas'\n",
    "dataset_name='test_dataset.hf'\n",
    "preprocess_bam=True\n",
    "vcf_file=bam_dir +'/CARTPt04_Scan2_svc_merged_extract_snp.vcf.gz'\n",
    "ref_fasta=bam_dir + '/Homo_sapiens_assembly38.fasta'\n",
    "results_dir=bam_dir\n",
    "output_fasta_fn='chr_test_fasta.fasta'\n",
    "sbatch=0"
   ]
  },
  {
   "cell_type": "markdown",
   "id": "df7229ab-99f5-4d74-a1e0-2a5cf0c47db1",
   "metadata": {
    "tags": []
   },
   "source": [
    "## Function definitions"
   ]
  },
  {
   "cell_type": "code",
   "execution_count": 3,
   "id": "366bf928-a137-44bb-b33e-39616a80d8d2",
   "metadata": {
    "tags": []
   },
   "outputs": [],
   "source": [
    "def preProcessVCF(vcf_path, ref_fasta, results_dir, output_fasta_fn, sbatch):\n",
    "    '''\n",
    "        take directory of a combined vcf file with somatic mutations called for normal cells\n",
    "        with pta run on them and make a fasta file \n",
    "        \n",
    "        TO-DO: make something that generates the vcf for you if given normal bam files\n",
    "    '''\n",
    "\n",
    "    !sh vcf2fasta.sh --vcf_path $vcf_path --ref_fasta $ref_fasta --results_dir $results_dir --output_name $output_fasta_fn --sbatch $sbatch"
   ]
  },
  {
   "cell_type": "code",
   "execution_count": 4,
   "id": "bbddb491-ee04-4717-bceb-edd694f04f89",
   "metadata": {},
   "outputs": [],
   "source": [
    "def makeEnformerDataset(fasta_path, bed_path):\n",
    "    '''\n",
    "        makes enformer dataset for genome intervals in bed file at bed_path, returns the dataset\n",
    "    '''\n",
    "    #filter_train = lambda df: df.filter(pl.col('column_4') == 'train')\n",
    "    ds = GenomeIntervalDataset(\n",
    "        bed_file = bed_path, ##<- this can just be the whole hg38.bed for all chromosomes\n",
    "        fasta_file = fasta_path,  ## path to fasta file\n",
    "        #filter_df_fn = filter_train,                        # filter dataframe function\n",
    "        return_seq_indices = False,                          # return nucleotide indices (ACGTN) or one hot encodings\n",
    "        shift_augs = (-2, 2),                               # random shift augmentations from -2 to +2 basepairs\n",
    "        rc_aug = True,                                      # use reverse complement augmentation with 50% probability\n",
    "        context_length = 196_608,\n",
    "        return_augs = True                                  # return the augmentation meta data\n",
    "        )\n",
    "    return ds"
   ]
  },
  {
   "cell_type": "code",
   "execution_count": 5,
   "id": "a767409c-b1a4-4a25-9375-476c72ac0899",
   "metadata": {},
   "outputs": [],
   "source": [
    "def trainEnformerPTA(dataset):\n",
    "    '''\n",
    "        should train the enformer model\n",
    "    '''\n",
    "    \n",
    "    #filter_train = lambda df: df.filter(pl.col('column_4') == 'train')\n",
    "\n",
    "    model = HeadAdapterWrapper(\n",
    "                enformer = dataset,\n",
    "                num_tracks = 128,\n",
    "                post_transformer_embed = False   # by default, embeddings are taken from after the final pointwise block w/ conv -> gelu - but if you'd like the embeddings right after the transformer block with a learned layernorm, set this to True\n",
    "            ).cuda()\n",
    "\n",
    "    return model"
   ]
  },
  {
   "cell_type": "code",
   "execution_count": 7,
   "id": "ce7b7d85-dea8-4e4e-b365-3ef6d9909738",
   "metadata": {},
   "outputs": [],
   "source": [
    "def makeOneHot(fastaFilePath, num_lines):\n",
    "    '''\n",
    "       Give path to a fasta file and the number of lines you want to turn into one hot encodings, get the one_hot encoded\n",
    "       tensor\n",
    "    '''\n",
    "    with open(fastaFilePath, 'r') as input_file:\n",
    "        try:\n",
    "            head = [next(input_file).strip('\\n') for _ in range(num_lines)]\n",
    "        except StopIteration as e:\n",
    "            print(\"Exceeded length of input file, stopping.\")\n",
    "    seq = str_to_one_hot(head)\n",
    "    input_file.close()\n",
    "    return(seq)\n",
    "        "
   ]
  },
  {
   "cell_type": "code",
   "execution_count": 8,
   "id": "7be1b5d5-2505-4618-8e6c-0068f2c8850b",
   "metadata": {},
   "outputs": [],
   "source": [
    "## this was all taken from lucidrains/enformer-pytorch, i have no clue if i could just source this somehow and i don't care\n",
    "\n",
    "def torch_fromstring(seq_strs):\n",
    "    def cast_list(t):\n",
    "        return t if isinstance(t, list) else [t]\n",
    "    batched = not isinstance(seq_strs, str)\n",
    "    seq_strs = cast_list(seq_strs)\n",
    "    np_seq_chrs = list(map(lambda t: np.fromstring(t, dtype = np.uint8), seq_strs))\n",
    "    seq_chrs = list(map(torch.from_numpy, np_seq_chrs))\n",
    "    return torch.stack(seq_chrs) if batched else seq_chrs[0]\n",
    "\n",
    "def str_to_one_hot(seq_strs):\n",
    "    seq_chrs = torch_fromstring(seq_strs)\n",
    "    return one_hot_embed[seq_chrs.long()]\n",
    "\n",
    "one_hot_embed = torch.zeros(256, 4)\n",
    "one_hot_embed[ord('a')] = torch.Tensor([1., 0., 0., 0.])\n",
    "one_hot_embed[ord('c')] = torch.Tensor([0., 1., 0., 0.])\n",
    "one_hot_embed[ord('g')] = torch.Tensor([0., 0., 1., 0.])\n",
    "one_hot_embed[ord('t')] = torch.Tensor([0., 0., 0., 1.])\n",
    "one_hot_embed[ord('n')] = torch.Tensor([0., 0., 0., 0.])\n",
    "one_hot_embed[ord('A')] = torch.Tensor([1., 0., 0., 0.])\n",
    "one_hot_embed[ord('C')] = torch.Tensor([0., 1., 0., 0.])\n",
    "one_hot_embed[ord('G')] = torch.Tensor([0., 0., 1., 0.])\n",
    "one_hot_embed[ord('T')] = torch.Tensor([0., 0., 0., 1.])\n",
    "one_hot_embed[ord('N')] = torch.Tensor([0., 0., 0., 0.])\n",
    "one_hot_embed[ord('.')] = torch.Tensor([0.25, 0.25, 0.25, 0.25])"
   ]
  },
  {
   "cell_type": "markdown",
   "id": "44f7e272-f2c9-42ef-9bcc-cf1dcb9fe831",
   "metadata": {
    "tags": []
   },
   "source": [
    "## Preprocessing"
   ]
  },
  {
   "cell_type": "code",
   "execution_count": 33,
   "id": "ef8293b8-faf6-4277-9cba-c42c52693b22",
   "metadata": {
    "collapsed": true,
    "jupyter": {
     "outputs_hidden": true
    },
    "tags": []
   },
   "outputs": [
    {
     "name": "stdout",
     "output_type": "stream",
     "text": [
      "Note: the --sample option not given, applying all records regardless of the genotype\n",
      "The site chr1:159782470 overlaps with another variant, skipping...\n",
      "The site chr1:206939504 overlaps with another variant, skipping...\n",
      "The site chr2:32811257 overlaps with another variant, skipping...\n",
      "The site chr5:141375502 overlaps with another variant, skipping...\n",
      "The site chr6:349203 overlaps with another variant, skipping...\n",
      "The site chr6:42236345 overlaps with another variant, skipping...\n",
      "The site chr7:142760369 overlaps with another variant, skipping...\n",
      "The site chr7:142772094 overlaps with another variant, skipping...\n",
      "The site chr9:33796768 overlaps with another variant, skipping...\n",
      "The site chr9:33796801 overlaps with another variant, skipping...\n",
      "The site chr9:106926826 overlaps with another variant, skipping...\n",
      "The site chr11:1017451 overlaps with another variant, skipping...\n",
      "The site chr11:1017461 overlaps with another variant, skipping...\n",
      "The site chr11:1017466 overlaps with another variant, skipping...\n",
      "The site chr11:1017912 overlaps with another variant, skipping...\n",
      "The site chr12:12338389 overlaps with another variant, skipping...\n",
      "The site chr14:88185619 overlaps with another variant, skipping...\n",
      "The site chr17:10521049 overlaps with another variant, skipping...\n",
      "The site chr17:63910109 overlaps with another variant, skipping...\n",
      "The site chr19:6414601 overlaps with another variant, skipping...\n",
      "The site chr19:8904698 overlaps with another variant, skipping...\n",
      "The site chr19:8907924 overlaps with another variant, skipping...\n",
      "The site chr19:39100436 overlaps with another variant, skipping...\n",
      "The site chr19:39380763 overlaps with another variant, skipping...\n",
      "The site chr19:42935905 overlaps with another variant, skipping...\n",
      "The site chr19:42935907 overlaps with another variant, skipping...\n",
      "The site chr19:54775563 overlaps with another variant, skipping...\n",
      "Warning: Sequence \"HLA-A*01\" not in /scratch/users/sschulz/pta_on_normal/CARTPt04_Scan2_svc_merged_extract_snp.vcf.gz\n",
      "Warning: Sequence \"HLA-A*01\" not in /scratch/users/sschulz/pta_on_normal/CARTPt04_Scan2_svc_merged_extract_snp.vcf.gz\n",
      "Warning: Sequence \"HLA-A*01\" not in /scratch/users/sschulz/pta_on_normal/CARTPt04_Scan2_svc_merged_extract_snp.vcf.gz\n",
      "Warning: Sequence \"HLA-A*01\" not in /scratch/users/sschulz/pta_on_normal/CARTPt04_Scan2_svc_merged_extract_snp.vcf.gz\n",
      "Warning: Sequence \"HLA-A*01\" not in /scratch/users/sschulz/pta_on_normal/CARTPt04_Scan2_svc_merged_extract_snp.vcf.gz\n",
      "Warning: Sequence \"HLA-A*01\" not in /scratch/users/sschulz/pta_on_normal/CARTPt04_Scan2_svc_merged_extract_snp.vcf.gz\n",
      "Warning: Sequence \"HLA-A*01\" not in /scratch/users/sschulz/pta_on_normal/CARTPt04_Scan2_svc_merged_extract_snp.vcf.gz\n",
      "Warning: Sequence \"HLA-A*01\" not in /scratch/users/sschulz/pta_on_normal/CARTPt04_Scan2_svc_merged_extract_snp.vcf.gz\n",
      "Warning: Sequence \"HLA-A*01\" not in /scratch/users/sschulz/pta_on_normal/CARTPt04_Scan2_svc_merged_extract_snp.vcf.gz\n",
      "Warning: Sequence \"HLA-A*01\" not in /scratch/users/sschulz/pta_on_normal/CARTPt04_Scan2_svc_merged_extract_snp.vcf.gz\n",
      "Warning: Sequence \"HLA-A*01\" not in /scratch/users/sschulz/pta_on_normal/CARTPt04_Scan2_svc_merged_extract_snp.vcf.gz\n",
      "Warning: Sequence \"HLA-A*02\" not in /scratch/users/sschulz/pta_on_normal/CARTPt04_Scan2_svc_merged_extract_snp.vcf.gz\n",
      "Warning: Sequence \"HLA-A*02\" not in /scratch/users/sschulz/pta_on_normal/CARTPt04_Scan2_svc_merged_extract_snp.vcf.gz\n",
      "Warning: Sequence \"HLA-A*02\" not in /scratch/users/sschulz/pta_on_normal/CARTPt04_Scan2_svc_merged_extract_snp.vcf.gz\n",
      "Warning: Sequence \"HLA-A*02\" not in /scratch/users/sschulz/pta_on_normal/CARTPt04_Scan2_svc_merged_extract_snp.vcf.gz\n",
      "Warning: Sequence \"HLA-A*02\" not in /scratch/users/sschulz/pta_on_normal/CARTPt04_Scan2_svc_merged_extract_snp.vcf.gz\n",
      "Warning: Sequence \"HLA-A*02\" not in /scratch/users/sschulz/pta_on_normal/CARTPt04_Scan2_svc_merged_extract_snp.vcf.gz\n",
      "Warning: Sequence \"HLA-A*02\" not in /scratch/users/sschulz/pta_on_normal/CARTPt04_Scan2_svc_merged_extract_snp.vcf.gz\n",
      "Warning: Sequence \"HLA-A*02\" not in /scratch/users/sschulz/pta_on_normal/CARTPt04_Scan2_svc_merged_extract_snp.vcf.gz\n",
      "Warning: Sequence \"HLA-A*02\" not in /scratch/users/sschulz/pta_on_normal/CARTPt04_Scan2_svc_merged_extract_snp.vcf.gz\n",
      "Warning: Sequence \"HLA-A*02\" not in /scratch/users/sschulz/pta_on_normal/CARTPt04_Scan2_svc_merged_extract_snp.vcf.gz\n",
      "Warning: Sequence \"HLA-A*02\" not in /scratch/users/sschulz/pta_on_normal/CARTPt04_Scan2_svc_merged_extract_snp.vcf.gz\n",
      "Warning: Sequence \"HLA-A*02\" not in /scratch/users/sschulz/pta_on_normal/CARTPt04_Scan2_svc_merged_extract_snp.vcf.gz\n",
      "Warning: Sequence \"HLA-A*02\" not in /scratch/users/sschulz/pta_on_normal/CARTPt04_Scan2_svc_merged_extract_snp.vcf.gz\n",
      "Warning: Sequence \"HLA-A*02\" not in /scratch/users/sschulz/pta_on_normal/CARTPt04_Scan2_svc_merged_extract_snp.vcf.gz\n",
      "Warning: Sequence \"HLA-A*02\" not in /scratch/users/sschulz/pta_on_normal/CARTPt04_Scan2_svc_merged_extract_snp.vcf.gz\n",
      "Warning: Sequence \"HLA-A*02\" not in /scratch/users/sschulz/pta_on_normal/CARTPt04_Scan2_svc_merged_extract_snp.vcf.gz\n",
      "Warning: Sequence \"HLA-A*02\" not in /scratch/users/sschulz/pta_on_normal/CARTPt04_Scan2_svc_merged_extract_snp.vcf.gz\n",
      "Warning: Sequence \"HLA-A*02\" not in /scratch/users/sschulz/pta_on_normal/CARTPt04_Scan2_svc_merged_extract_snp.vcf.gz\n",
      "Warning: Sequence \"HLA-A*02\" not in /scratch/users/sschulz/pta_on_normal/CARTPt04_Scan2_svc_merged_extract_snp.vcf.gz\n",
      "Warning: Sequence \"HLA-A*02\" not in /scratch/users/sschulz/pta_on_normal/CARTPt04_Scan2_svc_merged_extract_snp.vcf.gz\n",
      "Warning: Sequence \"HLA-A*02\" not in /scratch/users/sschulz/pta_on_normal/CARTPt04_Scan2_svc_merged_extract_snp.vcf.gz\n",
      "Warning: Sequence \"HLA-A*02\" not in /scratch/users/sschulz/pta_on_normal/CARTPt04_Scan2_svc_merged_extract_snp.vcf.gz\n",
      "Warning: Sequence \"HLA-A*02\" not in /scratch/users/sschulz/pta_on_normal/CARTPt04_Scan2_svc_merged_extract_snp.vcf.gz\n",
      "Warning: Sequence \"HLA-A*02\" not in /scratch/users/sschulz/pta_on_normal/CARTPt04_Scan2_svc_merged_extract_snp.vcf.gz\n",
      "Warning: Sequence \"HLA-A*02\" not in /scratch/users/sschulz/pta_on_normal/CARTPt04_Scan2_svc_merged_extract_snp.vcf.gz\n",
      "Warning: Sequence \"HLA-A*02\" not in /scratch/users/sschulz/pta_on_normal/CARTPt04_Scan2_svc_merged_extract_snp.vcf.gz\n",
      "Warning: Sequence \"HLA-A*02\" not in /scratch/users/sschulz/pta_on_normal/CARTPt04_Scan2_svc_merged_extract_snp.vcf.gz\n",
      "Warning: Sequence \"HLA-A*02\" not in /scratch/users/sschulz/pta_on_normal/CARTPt04_Scan2_svc_merged_extract_snp.vcf.gz\n",
      "Warning: Sequence \"HLA-A*02\" not in /scratch/users/sschulz/pta_on_normal/CARTPt04_Scan2_svc_merged_extract_snp.vcf.gz\n",
      "Warning: Sequence \"HLA-A*02\" not in /scratch/users/sschulz/pta_on_normal/CARTPt04_Scan2_svc_merged_extract_snp.vcf.gz\n",
      "Warning: Sequence \"HLA-A*02\" not in /scratch/users/sschulz/pta_on_normal/CARTPt04_Scan2_svc_merged_extract_snp.vcf.gz\n",
      "Warning: Sequence \"HLA-A*02\" not in /scratch/users/sschulz/pta_on_normal/CARTPt04_Scan2_svc_merged_extract_snp.vcf.gz\n",
      "Warning: Sequence \"HLA-A*02\" not in /scratch/users/sschulz/pta_on_normal/CARTPt04_Scan2_svc_merged_extract_snp.vcf.gz\n",
      "Warning: Sequence \"HLA-A*02\" not in /scratch/users/sschulz/pta_on_normal/CARTPt04_Scan2_svc_merged_extract_snp.vcf.gz\n",
      "Warning: Sequence \"HLA-A*03\" not in /scratch/users/sschulz/pta_on_normal/CARTPt04_Scan2_svc_merged_extract_snp.vcf.gz\n",
      "Warning: Sequence \"HLA-A*03\" not in /scratch/users/sschulz/pta_on_normal/CARTPt04_Scan2_svc_merged_extract_snp.vcf.gz\n",
      "Warning: Sequence \"HLA-A*03\" not in /scratch/users/sschulz/pta_on_normal/CARTPt04_Scan2_svc_merged_extract_snp.vcf.gz\n",
      "Warning: Sequence \"HLA-A*03\" not in /scratch/users/sschulz/pta_on_normal/CARTPt04_Scan2_svc_merged_extract_snp.vcf.gz\n",
      "Warning: Sequence \"HLA-A*03\" not in /scratch/users/sschulz/pta_on_normal/CARTPt04_Scan2_svc_merged_extract_snp.vcf.gz\n",
      "Warning: Sequence \"HLA-A*03\" not in /scratch/users/sschulz/pta_on_normal/CARTPt04_Scan2_svc_merged_extract_snp.vcf.gz\n",
      "Warning: Sequence \"HLA-A*03\" not in /scratch/users/sschulz/pta_on_normal/CARTPt04_Scan2_svc_merged_extract_snp.vcf.gz\n",
      "Warning: Sequence \"HLA-A*11\" not in /scratch/users/sschulz/pta_on_normal/CARTPt04_Scan2_svc_merged_extract_snp.vcf.gz\n",
      "Warning: Sequence \"HLA-A*11\" not in /scratch/users/sschulz/pta_on_normal/CARTPt04_Scan2_svc_merged_extract_snp.vcf.gz\n",
      "Warning: Sequence \"HLA-A*11\" not in /scratch/users/sschulz/pta_on_normal/CARTPt04_Scan2_svc_merged_extract_snp.vcf.gz\n",
      "Warning: Sequence \"HLA-A*11\" not in /scratch/users/sschulz/pta_on_normal/CARTPt04_Scan2_svc_merged_extract_snp.vcf.gz\n",
      "Warning: Sequence \"HLA-A*11\" not in /scratch/users/sschulz/pta_on_normal/CARTPt04_Scan2_svc_merged_extract_snp.vcf.gz\n",
      "Warning: Sequence \"HLA-A*11\" not in /scratch/users/sschulz/pta_on_normal/CARTPt04_Scan2_svc_merged_extract_snp.vcf.gz\n",
      "Warning: Sequence \"HLA-A*11\" not in /scratch/users/sschulz/pta_on_normal/CARTPt04_Scan2_svc_merged_extract_snp.vcf.gz\n",
      "Warning: Sequence \"HLA-A*11\" not in /scratch/users/sschulz/pta_on_normal/CARTPt04_Scan2_svc_merged_extract_snp.vcf.gz\n",
      "Warning: Sequence \"HLA-A*11\" not in /scratch/users/sschulz/pta_on_normal/CARTPt04_Scan2_svc_merged_extract_snp.vcf.gz\n",
      "Warning: Sequence \"HLA-A*11\" not in /scratch/users/sschulz/pta_on_normal/CARTPt04_Scan2_svc_merged_extract_snp.vcf.gz\n",
      "Warning: Sequence \"HLA-A*11\" not in /scratch/users/sschulz/pta_on_normal/CARTPt04_Scan2_svc_merged_extract_snp.vcf.gz\n",
      "Warning: Sequence \"HLA-A*11\" not in /scratch/users/sschulz/pta_on_normal/CARTPt04_Scan2_svc_merged_extract_snp.vcf.gz\n",
      "Warning: Sequence \"HLA-A*23\" not in /scratch/users/sschulz/pta_on_normal/CARTPt04_Scan2_svc_merged_extract_snp.vcf.gz\n",
      "Warning: Sequence \"HLA-A*23\" not in /scratch/users/sschulz/pta_on_normal/CARTPt04_Scan2_svc_merged_extract_snp.vcf.gz\n",
      "Warning: Sequence \"HLA-A*23\" not in /scratch/users/sschulz/pta_on_normal/CARTPt04_Scan2_svc_merged_extract_snp.vcf.gz\n",
      "Warning: Sequence \"HLA-A*24\" not in /scratch/users/sschulz/pta_on_normal/CARTPt04_Scan2_svc_merged_extract_snp.vcf.gz\n",
      "Warning: Sequence \"HLA-A*24\" not in /scratch/users/sschulz/pta_on_normal/CARTPt04_Scan2_svc_merged_extract_snp.vcf.gz\n",
      "Warning: Sequence \"HLA-A*24\" not in /scratch/users/sschulz/pta_on_normal/CARTPt04_Scan2_svc_merged_extract_snp.vcf.gz\n",
      "Warning: Sequence \"HLA-A*24\" not in /scratch/users/sschulz/pta_on_normal/CARTPt04_Scan2_svc_merged_extract_snp.vcf.gz\n",
      "Warning: Sequence \"HLA-A*24\" not in /scratch/users/sschulz/pta_on_normal/CARTPt04_Scan2_svc_merged_extract_snp.vcf.gz\n",
      "Warning: Sequence \"HLA-A*24\" not in /scratch/users/sschulz/pta_on_normal/CARTPt04_Scan2_svc_merged_extract_snp.vcf.gz\n",
      "Warning: Sequence \"HLA-A*24\" not in /scratch/users/sschulz/pta_on_normal/CARTPt04_Scan2_svc_merged_extract_snp.vcf.gz\n",
      "Warning: Sequence \"HLA-A*24\" not in /scratch/users/sschulz/pta_on_normal/CARTPt04_Scan2_svc_merged_extract_snp.vcf.gz\n",
      "Warning: Sequence \"HLA-A*24\" not in /scratch/users/sschulz/pta_on_normal/CARTPt04_Scan2_svc_merged_extract_snp.vcf.gz\n",
      "Warning: Sequence \"HLA-A*24\" not in /scratch/users/sschulz/pta_on_normal/CARTPt04_Scan2_svc_merged_extract_snp.vcf.gz\n",
      "Warning: Sequence \"HLA-A*24\" not in /scratch/users/sschulz/pta_on_normal/CARTPt04_Scan2_svc_merged_extract_snp.vcf.gz\n",
      "Warning: Sequence \"HLA-A*24\" not in /scratch/users/sschulz/pta_on_normal/CARTPt04_Scan2_svc_merged_extract_snp.vcf.gz\n",
      "Warning: Sequence \"HLA-A*24\" not in /scratch/users/sschulz/pta_on_normal/CARTPt04_Scan2_svc_merged_extract_snp.vcf.gz\n",
      "Warning: Sequence \"HLA-A*24\" not in /scratch/users/sschulz/pta_on_normal/CARTPt04_Scan2_svc_merged_extract_snp.vcf.gz\n",
      "Warning: Sequence \"HLA-A*24\" not in /scratch/users/sschulz/pta_on_normal/CARTPt04_Scan2_svc_merged_extract_snp.vcf.gz\n",
      "Warning: Sequence \"HLA-A*24\" not in /scratch/users/sschulz/pta_on_normal/CARTPt04_Scan2_svc_merged_extract_snp.vcf.gz\n",
      "Warning: Sequence \"HLA-A*25\" not in /scratch/users/sschulz/pta_on_normal/CARTPt04_Scan2_svc_merged_extract_snp.vcf.gz\n",
      "Warning: Sequence \"HLA-A*26\" not in /scratch/users/sschulz/pta_on_normal/CARTPt04_Scan2_svc_merged_extract_snp.vcf.gz\n",
      "Warning: Sequence \"HLA-A*26\" not in /scratch/users/sschulz/pta_on_normal/CARTPt04_Scan2_svc_merged_extract_snp.vcf.gz\n",
      "Warning: Sequence \"HLA-A*26\" not in /scratch/users/sschulz/pta_on_normal/CARTPt04_Scan2_svc_merged_extract_snp.vcf.gz\n",
      "Warning: Sequence \"HLA-A*26\" not in /scratch/users/sschulz/pta_on_normal/CARTPt04_Scan2_svc_merged_extract_snp.vcf.gz\n",
      "Warning: Sequence \"HLA-A*29\" not in /scratch/users/sschulz/pta_on_normal/CARTPt04_Scan2_svc_merged_extract_snp.vcf.gz\n",
      "Warning: Sequence \"HLA-A*29\" not in /scratch/users/sschulz/pta_on_normal/CARTPt04_Scan2_svc_merged_extract_snp.vcf.gz\n",
      "Warning: Sequence \"HLA-A*29\" not in /scratch/users/sschulz/pta_on_normal/CARTPt04_Scan2_svc_merged_extract_snp.vcf.gz\n",
      "Warning: Sequence \"HLA-A*29\" not in /scratch/users/sschulz/pta_on_normal/CARTPt04_Scan2_svc_merged_extract_snp.vcf.gz\n",
      "Warning: Sequence \"HLA-A*29\" not in /scratch/users/sschulz/pta_on_normal/CARTPt04_Scan2_svc_merged_extract_snp.vcf.gz\n",
      "Warning: Sequence \"HLA-A*30\" not in /scratch/users/sschulz/pta_on_normal/CARTPt04_Scan2_svc_merged_extract_snp.vcf.gz\n",
      "Warning: Sequence \"HLA-A*30\" not in /scratch/users/sschulz/pta_on_normal/CARTPt04_Scan2_svc_merged_extract_snp.vcf.gz\n",
      "Warning: Sequence \"HLA-A*30\" not in /scratch/users/sschulz/pta_on_normal/CARTPt04_Scan2_svc_merged_extract_snp.vcf.gz\n",
      "Warning: Sequence \"HLA-A*30\" not in /scratch/users/sschulz/pta_on_normal/CARTPt04_Scan2_svc_merged_extract_snp.vcf.gz\n",
      "Warning: Sequence \"HLA-A*30\" not in /scratch/users/sschulz/pta_on_normal/CARTPt04_Scan2_svc_merged_extract_snp.vcf.gz\n",
      "Warning: Sequence \"HLA-A*31\" not in /scratch/users/sschulz/pta_on_normal/CARTPt04_Scan2_svc_merged_extract_snp.vcf.gz\n",
      "Warning: Sequence \"HLA-A*31\" not in /scratch/users/sschulz/pta_on_normal/CARTPt04_Scan2_svc_merged_extract_snp.vcf.gz\n",
      "Warning: Sequence \"HLA-A*31\" not in /scratch/users/sschulz/pta_on_normal/CARTPt04_Scan2_svc_merged_extract_snp.vcf.gz\n",
      "Warning: Sequence \"HLA-A*31\" not in /scratch/users/sschulz/pta_on_normal/CARTPt04_Scan2_svc_merged_extract_snp.vcf.gz\n",
      "Warning: Sequence \"HLA-A*31\" not in /scratch/users/sschulz/pta_on_normal/CARTPt04_Scan2_svc_merged_extract_snp.vcf.gz\n",
      "Warning: Sequence \"HLA-A*32\" not in /scratch/users/sschulz/pta_on_normal/CARTPt04_Scan2_svc_merged_extract_snp.vcf.gz\n",
      "Warning: Sequence \"HLA-A*32\" not in /scratch/users/sschulz/pta_on_normal/CARTPt04_Scan2_svc_merged_extract_snp.vcf.gz\n",
      "Warning: Sequence \"HLA-A*33\" not in /scratch/users/sschulz/pta_on_normal/CARTPt04_Scan2_svc_merged_extract_snp.vcf.gz\n",
      "Warning: Sequence \"HLA-A*33\" not in /scratch/users/sschulz/pta_on_normal/CARTPt04_Scan2_svc_merged_extract_snp.vcf.gz\n",
      "Warning: Sequence \"HLA-A*33\" not in /scratch/users/sschulz/pta_on_normal/CARTPt04_Scan2_svc_merged_extract_snp.vcf.gz\n",
      "Warning: Sequence \"HLA-A*34\" not in /scratch/users/sschulz/pta_on_normal/CARTPt04_Scan2_svc_merged_extract_snp.vcf.gz\n",
      "Warning: Sequence \"HLA-A*34\" not in /scratch/users/sschulz/pta_on_normal/CARTPt04_Scan2_svc_merged_extract_snp.vcf.gz\n",
      "Warning: Sequence \"HLA-A*36\" not in /scratch/users/sschulz/pta_on_normal/CARTPt04_Scan2_svc_merged_extract_snp.vcf.gz\n",
      "Warning: Sequence \"HLA-A*43\" not in /scratch/users/sschulz/pta_on_normal/CARTPt04_Scan2_svc_merged_extract_snp.vcf.gz\n",
      "Warning: Sequence \"HLA-A*66\" not in /scratch/users/sschulz/pta_on_normal/CARTPt04_Scan2_svc_merged_extract_snp.vcf.gz\n",
      "Warning: Sequence \"HLA-A*66\" not in /scratch/users/sschulz/pta_on_normal/CARTPt04_Scan2_svc_merged_extract_snp.vcf.gz\n",
      "Warning: Sequence \"HLA-A*68\" not in /scratch/users/sschulz/pta_on_normal/CARTPt04_Scan2_svc_merged_extract_snp.vcf.gz\n",
      "Warning: Sequence \"HLA-A*68\" not in /scratch/users/sschulz/pta_on_normal/CARTPt04_Scan2_svc_merged_extract_snp.vcf.gz\n",
      "Warning: Sequence \"HLA-A*68\" not in /scratch/users/sschulz/pta_on_normal/CARTPt04_Scan2_svc_merged_extract_snp.vcf.gz\n",
      "Warning: Sequence \"HLA-A*68\" not in /scratch/users/sschulz/pta_on_normal/CARTPt04_Scan2_svc_merged_extract_snp.vcf.gz\n",
      "Warning: Sequence \"HLA-A*68\" not in /scratch/users/sschulz/pta_on_normal/CARTPt04_Scan2_svc_merged_extract_snp.vcf.gz\n",
      "Warning: Sequence \"HLA-A*68\" not in /scratch/users/sschulz/pta_on_normal/CARTPt04_Scan2_svc_merged_extract_snp.vcf.gz\n",
      "Warning: Sequence \"HLA-A*68\" not in /scratch/users/sschulz/pta_on_normal/CARTPt04_Scan2_svc_merged_extract_snp.vcf.gz\n",
      "Warning: Sequence \"HLA-A*68\" not in /scratch/users/sschulz/pta_on_normal/CARTPt04_Scan2_svc_merged_extract_snp.vcf.gz\n",
      "Warning: Sequence \"HLA-A*68\" not in /scratch/users/sschulz/pta_on_normal/CARTPt04_Scan2_svc_merged_extract_snp.vcf.gz\n",
      "Warning: Sequence \"HLA-A*68\" not in /scratch/users/sschulz/pta_on_normal/CARTPt04_Scan2_svc_merged_extract_snp.vcf.gz\n",
      "Warning: Sequence \"HLA-A*68\" not in /scratch/users/sschulz/pta_on_normal/CARTPt04_Scan2_svc_merged_extract_snp.vcf.gz\n",
      "Warning: Sequence \"HLA-A*68\" not in /scratch/users/sschulz/pta_on_normal/CARTPt04_Scan2_svc_merged_extract_snp.vcf.gz\n",
      "Warning: Sequence \"HLA-A*68\" not in /scratch/users/sschulz/pta_on_normal/CARTPt04_Scan2_svc_merged_extract_snp.vcf.gz\n",
      "Warning: Sequence \"HLA-A*68\" not in /scratch/users/sschulz/pta_on_normal/CARTPt04_Scan2_svc_merged_extract_snp.vcf.gz\n",
      "Warning: Sequence \"HLA-A*68\" not in /scratch/users/sschulz/pta_on_normal/CARTPt04_Scan2_svc_merged_extract_snp.vcf.gz\n",
      "Warning: Sequence \"HLA-A*69\" not in /scratch/users/sschulz/pta_on_normal/CARTPt04_Scan2_svc_merged_extract_snp.vcf.gz\n",
      "Warning: Sequence \"HLA-A*74\" not in /scratch/users/sschulz/pta_on_normal/CARTPt04_Scan2_svc_merged_extract_snp.vcf.gz\n",
      "Warning: Sequence \"HLA-A*74\" not in /scratch/users/sschulz/pta_on_normal/CARTPt04_Scan2_svc_merged_extract_snp.vcf.gz\n",
      "Warning: Sequence \"HLA-A*74\" not in /scratch/users/sschulz/pta_on_normal/CARTPt04_Scan2_svc_merged_extract_snp.vcf.gz\n",
      "Warning: Sequence \"HLA-A*80\" not in /scratch/users/sschulz/pta_on_normal/CARTPt04_Scan2_svc_merged_extract_snp.vcf.gz\n",
      "Warning: Sequence \"HLA-A*80\" not in /scratch/users/sschulz/pta_on_normal/CARTPt04_Scan2_svc_merged_extract_snp.vcf.gz\n",
      "Warning: Sequence \"HLA-B*07\" not in /scratch/users/sschulz/pta_on_normal/CARTPt04_Scan2_svc_merged_extract_snp.vcf.gz\n",
      "Warning: Sequence \"HLA-B*07\" not in /scratch/users/sschulz/pta_on_normal/CARTPt04_Scan2_svc_merged_extract_snp.vcf.gz\n",
      "Warning: Sequence \"HLA-B*07\" not in /scratch/users/sschulz/pta_on_normal/CARTPt04_Scan2_svc_merged_extract_snp.vcf.gz\n",
      "Warning: Sequence \"HLA-B*07\" not in /scratch/users/sschulz/pta_on_normal/CARTPt04_Scan2_svc_merged_extract_snp.vcf.gz\n",
      "Warning: Sequence \"HLA-B*07\" not in /scratch/users/sschulz/pta_on_normal/CARTPt04_Scan2_svc_merged_extract_snp.vcf.gz\n",
      "Warning: Sequence \"HLA-B*07\" not in /scratch/users/sschulz/pta_on_normal/CARTPt04_Scan2_svc_merged_extract_snp.vcf.gz\n",
      "Warning: Sequence \"HLA-B*07\" not in /scratch/users/sschulz/pta_on_normal/CARTPt04_Scan2_svc_merged_extract_snp.vcf.gz\n",
      "Warning: Sequence \"HLA-B*07\" not in /scratch/users/sschulz/pta_on_normal/CARTPt04_Scan2_svc_merged_extract_snp.vcf.gz\n",
      "Warning: Sequence \"HLA-B*08\" not in /scratch/users/sschulz/pta_on_normal/CARTPt04_Scan2_svc_merged_extract_snp.vcf.gz\n",
      "Warning: Sequence \"HLA-B*08\" not in /scratch/users/sschulz/pta_on_normal/CARTPt04_Scan2_svc_merged_extract_snp.vcf.gz\n",
      "Warning: Sequence \"HLA-B*08\" not in /scratch/users/sschulz/pta_on_normal/CARTPt04_Scan2_svc_merged_extract_snp.vcf.gz\n",
      "Warning: Sequence \"HLA-B*08\" not in /scratch/users/sschulz/pta_on_normal/CARTPt04_Scan2_svc_merged_extract_snp.vcf.gz\n",
      "Warning: Sequence \"HLA-B*08\" not in /scratch/users/sschulz/pta_on_normal/CARTPt04_Scan2_svc_merged_extract_snp.vcf.gz\n",
      "Warning: Sequence \"HLA-B*08\" not in /scratch/users/sschulz/pta_on_normal/CARTPt04_Scan2_svc_merged_extract_snp.vcf.gz\n",
      "Warning: Sequence \"HLA-B*08\" not in /scratch/users/sschulz/pta_on_normal/CARTPt04_Scan2_svc_merged_extract_snp.vcf.gz\n",
      "Warning: Sequence \"HLA-B*08\" not in /scratch/users/sschulz/pta_on_normal/CARTPt04_Scan2_svc_merged_extract_snp.vcf.gz\n",
      "Warning: Sequence \"HLA-B*13\" not in /scratch/users/sschulz/pta_on_normal/CARTPt04_Scan2_svc_merged_extract_snp.vcf.gz\n",
      "Warning: Sequence \"HLA-B*13\" not in /scratch/users/sschulz/pta_on_normal/CARTPt04_Scan2_svc_merged_extract_snp.vcf.gz\n",
      "Warning: Sequence \"HLA-B*13\" not in /scratch/users/sschulz/pta_on_normal/CARTPt04_Scan2_svc_merged_extract_snp.vcf.gz\n",
      "Warning: Sequence \"HLA-B*13\" not in /scratch/users/sschulz/pta_on_normal/CARTPt04_Scan2_svc_merged_extract_snp.vcf.gz\n",
      "Warning: Sequence \"HLA-B*13\" not in /scratch/users/sschulz/pta_on_normal/CARTPt04_Scan2_svc_merged_extract_snp.vcf.gz\n",
      "Warning: Sequence \"HLA-B*13\" not in /scratch/users/sschulz/pta_on_normal/CARTPt04_Scan2_svc_merged_extract_snp.vcf.gz\n",
      "Warning: Sequence \"HLA-B*13\" not in /scratch/users/sschulz/pta_on_normal/CARTPt04_Scan2_svc_merged_extract_snp.vcf.gz\n",
      "Warning: Sequence \"HLA-B*14\" not in /scratch/users/sschulz/pta_on_normal/CARTPt04_Scan2_svc_merged_extract_snp.vcf.gz\n",
      "Warning: Sequence \"HLA-B*14\" not in /scratch/users/sschulz/pta_on_normal/CARTPt04_Scan2_svc_merged_extract_snp.vcf.gz\n",
      "Warning: Sequence \"HLA-B*14\" not in /scratch/users/sschulz/pta_on_normal/CARTPt04_Scan2_svc_merged_extract_snp.vcf.gz\n",
      "Warning: Sequence \"HLA-B*15\" not in /scratch/users/sschulz/pta_on_normal/CARTPt04_Scan2_svc_merged_extract_snp.vcf.gz\n",
      "Warning: Sequence \"HLA-B*15\" not in /scratch/users/sschulz/pta_on_normal/CARTPt04_Scan2_svc_merged_extract_snp.vcf.gz\n",
      "Warning: Sequence \"HLA-B*15\" not in /scratch/users/sschulz/pta_on_normal/CARTPt04_Scan2_svc_merged_extract_snp.vcf.gz\n",
      "Warning: Sequence \"HLA-B*15\" not in /scratch/users/sschulz/pta_on_normal/CARTPt04_Scan2_svc_merged_extract_snp.vcf.gz\n",
      "Warning: Sequence \"HLA-B*15\" not in /scratch/users/sschulz/pta_on_normal/CARTPt04_Scan2_svc_merged_extract_snp.vcf.gz\n",
      "Warning: Sequence \"HLA-B*15\" not in /scratch/users/sschulz/pta_on_normal/CARTPt04_Scan2_svc_merged_extract_snp.vcf.gz\n",
      "Warning: Sequence \"HLA-B*15\" not in /scratch/users/sschulz/pta_on_normal/CARTPt04_Scan2_svc_merged_extract_snp.vcf.gz\n",
      "Warning: Sequence \"HLA-B*15\" not in /scratch/users/sschulz/pta_on_normal/CARTPt04_Scan2_svc_merged_extract_snp.vcf.gz\n",
      "Warning: Sequence \"HLA-B*15\" not in /scratch/users/sschulz/pta_on_normal/CARTPt04_Scan2_svc_merged_extract_snp.vcf.gz\n",
      "Warning: Sequence \"HLA-B*15\" not in /scratch/users/sschulz/pta_on_normal/CARTPt04_Scan2_svc_merged_extract_snp.vcf.gz\n",
      "Warning: Sequence \"HLA-B*15\" not in /scratch/users/sschulz/pta_on_normal/CARTPt04_Scan2_svc_merged_extract_snp.vcf.gz\n",
      "Warning: Sequence \"HLA-B*15\" not in /scratch/users/sschulz/pta_on_normal/CARTPt04_Scan2_svc_merged_extract_snp.vcf.gz\n",
      "Warning: Sequence \"HLA-B*15\" not in /scratch/users/sschulz/pta_on_normal/CARTPt04_Scan2_svc_merged_extract_snp.vcf.gz\n",
      "Warning: Sequence \"HLA-B*15\" not in /scratch/users/sschulz/pta_on_normal/CARTPt04_Scan2_svc_merged_extract_snp.vcf.gz\n",
      "Warning: Sequence \"HLA-B*15\" not in /scratch/users/sschulz/pta_on_normal/CARTPt04_Scan2_svc_merged_extract_snp.vcf.gz\n",
      "Warning: Sequence \"HLA-B*15\" not in /scratch/users/sschulz/pta_on_normal/CARTPt04_Scan2_svc_merged_extract_snp.vcf.gz\n",
      "Warning: Sequence \"HLA-B*15\" not in /scratch/users/sschulz/pta_on_normal/CARTPt04_Scan2_svc_merged_extract_snp.vcf.gz\n",
      "Warning: Sequence \"HLA-B*15\" not in /scratch/users/sschulz/pta_on_normal/CARTPt04_Scan2_svc_merged_extract_snp.vcf.gz\n",
      "Warning: Sequence \"HLA-B*15\" not in /scratch/users/sschulz/pta_on_normal/CARTPt04_Scan2_svc_merged_extract_snp.vcf.gz\n",
      "Warning: Sequence \"HLA-B*15\" not in /scratch/users/sschulz/pta_on_normal/CARTPt04_Scan2_svc_merged_extract_snp.vcf.gz\n",
      "Warning: Sequence \"HLA-B*15\" not in /scratch/users/sschulz/pta_on_normal/CARTPt04_Scan2_svc_merged_extract_snp.vcf.gz\n",
      "Warning: Sequence \"HLA-B*15\" not in /scratch/users/sschulz/pta_on_normal/CARTPt04_Scan2_svc_merged_extract_snp.vcf.gz\n",
      "Warning: Sequence \"HLA-B*15\" not in /scratch/users/sschulz/pta_on_normal/CARTPt04_Scan2_svc_merged_extract_snp.vcf.gz\n",
      "Warning: Sequence \"HLA-B*15\" not in /scratch/users/sschulz/pta_on_normal/CARTPt04_Scan2_svc_merged_extract_snp.vcf.gz\n",
      "Warning: Sequence \"HLA-B*18\" not in /scratch/users/sschulz/pta_on_normal/CARTPt04_Scan2_svc_merged_extract_snp.vcf.gz\n",
      "Warning: Sequence \"HLA-B*18\" not in /scratch/users/sschulz/pta_on_normal/CARTPt04_Scan2_svc_merged_extract_snp.vcf.gz\n",
      "Warning: Sequence \"HLA-B*18\" not in /scratch/users/sschulz/pta_on_normal/CARTPt04_Scan2_svc_merged_extract_snp.vcf.gz\n",
      "Warning: Sequence \"HLA-B*18\" not in /scratch/users/sschulz/pta_on_normal/CARTPt04_Scan2_svc_merged_extract_snp.vcf.gz\n",
      "Warning: Sequence \"HLA-B*18\" not in /scratch/users/sschulz/pta_on_normal/CARTPt04_Scan2_svc_merged_extract_snp.vcf.gz\n",
      "Warning: Sequence \"HLA-B*18\" not in /scratch/users/sschulz/pta_on_normal/CARTPt04_Scan2_svc_merged_extract_snp.vcf.gz\n",
      "Warning: Sequence \"HLA-B*18\" not in /scratch/users/sschulz/pta_on_normal/CARTPt04_Scan2_svc_merged_extract_snp.vcf.gz\n",
      "Warning: Sequence \"HLA-B*27\" not in /scratch/users/sschulz/pta_on_normal/CARTPt04_Scan2_svc_merged_extract_snp.vcf.gz\n",
      "Warning: Sequence \"HLA-B*27\" not in /scratch/users/sschulz/pta_on_normal/CARTPt04_Scan2_svc_merged_extract_snp.vcf.gz\n",
      "Warning: Sequence \"HLA-B*27\" not in /scratch/users/sschulz/pta_on_normal/CARTPt04_Scan2_svc_merged_extract_snp.vcf.gz\n",
      "Warning: Sequence \"HLA-B*27\" not in /scratch/users/sschulz/pta_on_normal/CARTPt04_Scan2_svc_merged_extract_snp.vcf.gz\n",
      "Warning: Sequence \"HLA-B*27\" not in /scratch/users/sschulz/pta_on_normal/CARTPt04_Scan2_svc_merged_extract_snp.vcf.gz\n",
      "Warning: Sequence \"HLA-B*27\" not in /scratch/users/sschulz/pta_on_normal/CARTPt04_Scan2_svc_merged_extract_snp.vcf.gz\n",
      "Warning: Sequence \"HLA-B*27\" not in /scratch/users/sschulz/pta_on_normal/CARTPt04_Scan2_svc_merged_extract_snp.vcf.gz\n",
      "Warning: Sequence \"HLA-B*27\" not in /scratch/users/sschulz/pta_on_normal/CARTPt04_Scan2_svc_merged_extract_snp.vcf.gz\n",
      "Warning: Sequence \"HLA-B*27\" not in /scratch/users/sschulz/pta_on_normal/CARTPt04_Scan2_svc_merged_extract_snp.vcf.gz\n",
      "Warning: Sequence \"HLA-B*35\" not in /scratch/users/sschulz/pta_on_normal/CARTPt04_Scan2_svc_merged_extract_snp.vcf.gz\n",
      "Warning: Sequence \"HLA-B*35\" not in /scratch/users/sschulz/pta_on_normal/CARTPt04_Scan2_svc_merged_extract_snp.vcf.gz\n",
      "Warning: Sequence \"HLA-B*35\" not in /scratch/users/sschulz/pta_on_normal/CARTPt04_Scan2_svc_merged_extract_snp.vcf.gz\n",
      "Warning: Sequence \"HLA-B*35\" not in /scratch/users/sschulz/pta_on_normal/CARTPt04_Scan2_svc_merged_extract_snp.vcf.gz\n",
      "Warning: Sequence \"HLA-B*35\" not in /scratch/users/sschulz/pta_on_normal/CARTPt04_Scan2_svc_merged_extract_snp.vcf.gz\n",
      "Warning: Sequence \"HLA-B*35\" not in /scratch/users/sschulz/pta_on_normal/CARTPt04_Scan2_svc_merged_extract_snp.vcf.gz\n",
      "Warning: Sequence \"HLA-B*35\" not in /scratch/users/sschulz/pta_on_normal/CARTPt04_Scan2_svc_merged_extract_snp.vcf.gz\n",
      "Warning: Sequence \"HLA-B*35\" not in /scratch/users/sschulz/pta_on_normal/CARTPt04_Scan2_svc_merged_extract_snp.vcf.gz\n",
      "Warning: Sequence \"HLA-B*35\" not in /scratch/users/sschulz/pta_on_normal/CARTPt04_Scan2_svc_merged_extract_snp.vcf.gz\n",
      "Warning: Sequence \"HLA-B*35\" not in /scratch/users/sschulz/pta_on_normal/CARTPt04_Scan2_svc_merged_extract_snp.vcf.gz\n",
      "Warning: Sequence \"HLA-B*37\" not in /scratch/users/sschulz/pta_on_normal/CARTPt04_Scan2_svc_merged_extract_snp.vcf.gz\n",
      "Warning: Sequence \"HLA-B*37\" not in /scratch/users/sschulz/pta_on_normal/CARTPt04_Scan2_svc_merged_extract_snp.vcf.gz\n",
      "Warning: Sequence \"HLA-B*38\" not in /scratch/users/sschulz/pta_on_normal/CARTPt04_Scan2_svc_merged_extract_snp.vcf.gz\n",
      "Warning: Sequence \"HLA-B*38\" not in /scratch/users/sschulz/pta_on_normal/CARTPt04_Scan2_svc_merged_extract_snp.vcf.gz\n",
      "Warning: Sequence \"HLA-B*38\" not in /scratch/users/sschulz/pta_on_normal/CARTPt04_Scan2_svc_merged_extract_snp.vcf.gz\n",
      "Warning: Sequence \"HLA-B*39\" not in /scratch/users/sschulz/pta_on_normal/CARTPt04_Scan2_svc_merged_extract_snp.vcf.gz\n",
      "Warning: Sequence \"HLA-B*39\" not in /scratch/users/sschulz/pta_on_normal/CARTPt04_Scan2_svc_merged_extract_snp.vcf.gz\n",
      "Warning: Sequence \"HLA-B*39\" not in /scratch/users/sschulz/pta_on_normal/CARTPt04_Scan2_svc_merged_extract_snp.vcf.gz\n",
      "Warning: Sequence \"HLA-B*39\" not in /scratch/users/sschulz/pta_on_normal/CARTPt04_Scan2_svc_merged_extract_snp.vcf.gz\n",
      "Warning: Sequence \"HLA-B*39\" not in /scratch/users/sschulz/pta_on_normal/CARTPt04_Scan2_svc_merged_extract_snp.vcf.gz\n",
      "Warning: Sequence \"HLA-B*39\" not in /scratch/users/sschulz/pta_on_normal/CARTPt04_Scan2_svc_merged_extract_snp.vcf.gz\n",
      "Warning: Sequence \"HLA-B*39\" not in /scratch/users/sschulz/pta_on_normal/CARTPt04_Scan2_svc_merged_extract_snp.vcf.gz\n",
      "Warning: Sequence \"HLA-B*39\" not in /scratch/users/sschulz/pta_on_normal/CARTPt04_Scan2_svc_merged_extract_snp.vcf.gz\n",
      "Warning: Sequence \"HLA-B*39\" not in /scratch/users/sschulz/pta_on_normal/CARTPt04_Scan2_svc_merged_extract_snp.vcf.gz\n",
      "Warning: Sequence \"HLA-B*39\" not in /scratch/users/sschulz/pta_on_normal/CARTPt04_Scan2_svc_merged_extract_snp.vcf.gz\n",
      "Warning: Sequence \"HLA-B*39\" not in /scratch/users/sschulz/pta_on_normal/CARTPt04_Scan2_svc_merged_extract_snp.vcf.gz\n",
      "Warning: Sequence \"HLA-B*39\" not in /scratch/users/sschulz/pta_on_normal/CARTPt04_Scan2_svc_merged_extract_snp.vcf.gz\n",
      "Warning: Sequence \"HLA-B*39\" not in /scratch/users/sschulz/pta_on_normal/CARTPt04_Scan2_svc_merged_extract_snp.vcf.gz\n",
      "Warning: Sequence \"HLA-B*40\" not in /scratch/users/sschulz/pta_on_normal/CARTPt04_Scan2_svc_merged_extract_snp.vcf.gz\n",
      "Warning: Sequence \"HLA-B*40\" not in /scratch/users/sschulz/pta_on_normal/CARTPt04_Scan2_svc_merged_extract_snp.vcf.gz\n",
      "Warning: Sequence \"HLA-B*40\" not in /scratch/users/sschulz/pta_on_normal/CARTPt04_Scan2_svc_merged_extract_snp.vcf.gz\n",
      "Warning: Sequence \"HLA-B*40\" not in /scratch/users/sschulz/pta_on_normal/CARTPt04_Scan2_svc_merged_extract_snp.vcf.gz\n",
      "Warning: Sequence \"HLA-B*40\" not in /scratch/users/sschulz/pta_on_normal/CARTPt04_Scan2_svc_merged_extract_snp.vcf.gz\n",
      "Warning: Sequence \"HLA-B*40\" not in /scratch/users/sschulz/pta_on_normal/CARTPt04_Scan2_svc_merged_extract_snp.vcf.gz\n",
      "Warning: Sequence \"HLA-B*40\" not in /scratch/users/sschulz/pta_on_normal/CARTPt04_Scan2_svc_merged_extract_snp.vcf.gz\n",
      "Warning: Sequence \"HLA-B*40\" not in /scratch/users/sschulz/pta_on_normal/CARTPt04_Scan2_svc_merged_extract_snp.vcf.gz\n",
      "Warning: Sequence \"HLA-B*40\" not in /scratch/users/sschulz/pta_on_normal/CARTPt04_Scan2_svc_merged_extract_snp.vcf.gz\n",
      "Warning: Sequence \"HLA-B*40\" not in /scratch/users/sschulz/pta_on_normal/CARTPt04_Scan2_svc_merged_extract_snp.vcf.gz\n",
      "Warning: Sequence \"HLA-B*40\" not in /scratch/users/sschulz/pta_on_normal/CARTPt04_Scan2_svc_merged_extract_snp.vcf.gz\n",
      "Warning: Sequence \"HLA-B*41\" not in /scratch/users/sschulz/pta_on_normal/CARTPt04_Scan2_svc_merged_extract_snp.vcf.gz\n",
      "Warning: Sequence \"HLA-B*41\" not in /scratch/users/sschulz/pta_on_normal/CARTPt04_Scan2_svc_merged_extract_snp.vcf.gz\n",
      "Warning: Sequence \"HLA-B*42\" not in /scratch/users/sschulz/pta_on_normal/CARTPt04_Scan2_svc_merged_extract_snp.vcf.gz\n",
      "Warning: Sequence \"HLA-B*42\" not in /scratch/users/sschulz/pta_on_normal/CARTPt04_Scan2_svc_merged_extract_snp.vcf.gz\n",
      "Warning: Sequence \"HLA-B*42\" not in /scratch/users/sschulz/pta_on_normal/CARTPt04_Scan2_svc_merged_extract_snp.vcf.gz\n",
      "Warning: Sequence \"HLA-B*44\" not in /scratch/users/sschulz/pta_on_normal/CARTPt04_Scan2_svc_merged_extract_snp.vcf.gz\n",
      "Warning: Sequence \"HLA-B*44\" not in /scratch/users/sschulz/pta_on_normal/CARTPt04_Scan2_svc_merged_extract_snp.vcf.gz\n",
      "Warning: Sequence \"HLA-B*44\" not in /scratch/users/sschulz/pta_on_normal/CARTPt04_Scan2_svc_merged_extract_snp.vcf.gz\n",
      "Warning: Sequence \"HLA-B*44\" not in /scratch/users/sschulz/pta_on_normal/CARTPt04_Scan2_svc_merged_extract_snp.vcf.gz\n",
      "Warning: Sequence \"HLA-B*44\" not in /scratch/users/sschulz/pta_on_normal/CARTPt04_Scan2_svc_merged_extract_snp.vcf.gz\n",
      "Warning: Sequence \"HLA-B*44\" not in /scratch/users/sschulz/pta_on_normal/CARTPt04_Scan2_svc_merged_extract_snp.vcf.gz\n",
      "Warning: Sequence \"HLA-B*44\" not in /scratch/users/sschulz/pta_on_normal/CARTPt04_Scan2_svc_merged_extract_snp.vcf.gz\n",
      "Warning: Sequence \"HLA-B*44\" not in /scratch/users/sschulz/pta_on_normal/CARTPt04_Scan2_svc_merged_extract_snp.vcf.gz\n",
      "Warning: Sequence \"HLA-B*44\" not in /scratch/users/sschulz/pta_on_normal/CARTPt04_Scan2_svc_merged_extract_snp.vcf.gz\n",
      "Warning: Sequence \"HLA-B*44\" not in /scratch/users/sschulz/pta_on_normal/CARTPt04_Scan2_svc_merged_extract_snp.vcf.gz\n",
      "Warning: Sequence \"HLA-B*44\" not in /scratch/users/sschulz/pta_on_normal/CARTPt04_Scan2_svc_merged_extract_snp.vcf.gz\n",
      "Warning: Sequence \"HLA-B*44\" not in /scratch/users/sschulz/pta_on_normal/CARTPt04_Scan2_svc_merged_extract_snp.vcf.gz\n",
      "Warning: Sequence \"HLA-B*44\" not in /scratch/users/sschulz/pta_on_normal/CARTPt04_Scan2_svc_merged_extract_snp.vcf.gz\n",
      "Warning: Sequence \"HLA-B*44\" not in /scratch/users/sschulz/pta_on_normal/CARTPt04_Scan2_svc_merged_extract_snp.vcf.gz\n",
      "Warning: Sequence \"HLA-B*44\" not in /scratch/users/sschulz/pta_on_normal/CARTPt04_Scan2_svc_merged_extract_snp.vcf.gz\n",
      "Warning: Sequence \"HLA-B*44\" not in /scratch/users/sschulz/pta_on_normal/CARTPt04_Scan2_svc_merged_extract_snp.vcf.gz\n",
      "Warning: Sequence \"HLA-B*45\" not in /scratch/users/sschulz/pta_on_normal/CARTPt04_Scan2_svc_merged_extract_snp.vcf.gz\n",
      "Warning: Sequence \"HLA-B*45\" not in /scratch/users/sschulz/pta_on_normal/CARTPt04_Scan2_svc_merged_extract_snp.vcf.gz\n",
      "Warning: Sequence \"HLA-B*46\" not in /scratch/users/sschulz/pta_on_normal/CARTPt04_Scan2_svc_merged_extract_snp.vcf.gz\n",
      "Warning: Sequence \"HLA-B*46\" not in /scratch/users/sschulz/pta_on_normal/CARTPt04_Scan2_svc_merged_extract_snp.vcf.gz\n",
      "Warning: Sequence \"HLA-B*47\" not in /scratch/users/sschulz/pta_on_normal/CARTPt04_Scan2_svc_merged_extract_snp.vcf.gz\n",
      "Warning: Sequence \"HLA-B*47\" not in /scratch/users/sschulz/pta_on_normal/CARTPt04_Scan2_svc_merged_extract_snp.vcf.gz\n",
      "Warning: Sequence \"HLA-B*48\" not in /scratch/users/sschulz/pta_on_normal/CARTPt04_Scan2_svc_merged_extract_snp.vcf.gz\n",
      "Warning: Sequence \"HLA-B*48\" not in /scratch/users/sschulz/pta_on_normal/CARTPt04_Scan2_svc_merged_extract_snp.vcf.gz\n",
      "Warning: Sequence \"HLA-B*48\" not in /scratch/users/sschulz/pta_on_normal/CARTPt04_Scan2_svc_merged_extract_snp.vcf.gz\n",
      "Warning: Sequence \"HLA-B*48\" not in /scratch/users/sschulz/pta_on_normal/CARTPt04_Scan2_svc_merged_extract_snp.vcf.gz\n",
      "Warning: Sequence \"HLA-B*49\" not in /scratch/users/sschulz/pta_on_normal/CARTPt04_Scan2_svc_merged_extract_snp.vcf.gz\n",
      "Warning: Sequence \"HLA-B*49\" not in /scratch/users/sschulz/pta_on_normal/CARTPt04_Scan2_svc_merged_extract_snp.vcf.gz\n",
      "Warning: Sequence \"HLA-B*50\" not in /scratch/users/sschulz/pta_on_normal/CARTPt04_Scan2_svc_merged_extract_snp.vcf.gz\n",
      "Warning: Sequence \"HLA-B*51\" not in /scratch/users/sschulz/pta_on_normal/CARTPt04_Scan2_svc_merged_extract_snp.vcf.gz\n",
      "Warning: Sequence \"HLA-B*51\" not in /scratch/users/sschulz/pta_on_normal/CARTPt04_Scan2_svc_merged_extract_snp.vcf.gz\n",
      "Warning: Sequence \"HLA-B*51\" not in /scratch/users/sschulz/pta_on_normal/CARTPt04_Scan2_svc_merged_extract_snp.vcf.gz\n",
      "Warning: Sequence \"HLA-B*51\" not in /scratch/users/sschulz/pta_on_normal/CARTPt04_Scan2_svc_merged_extract_snp.vcf.gz\n",
      "Warning: Sequence \"HLA-B*51\" not in /scratch/users/sschulz/pta_on_normal/CARTPt04_Scan2_svc_merged_extract_snp.vcf.gz\n",
      "Warning: Sequence \"HLA-B*52\" not in /scratch/users/sschulz/pta_on_normal/CARTPt04_Scan2_svc_merged_extract_snp.vcf.gz\n",
      "Warning: Sequence \"HLA-B*52\" not in /scratch/users/sschulz/pta_on_normal/CARTPt04_Scan2_svc_merged_extract_snp.vcf.gz\n",
      "Warning: Sequence \"HLA-B*52\" not in /scratch/users/sschulz/pta_on_normal/CARTPt04_Scan2_svc_merged_extract_snp.vcf.gz\n",
      "Warning: Sequence \"HLA-B*52\" not in /scratch/users/sschulz/pta_on_normal/CARTPt04_Scan2_svc_merged_extract_snp.vcf.gz\n",
      "Warning: Sequence \"HLA-B*53\" not in /scratch/users/sschulz/pta_on_normal/CARTPt04_Scan2_svc_merged_extract_snp.vcf.gz\n",
      "Warning: Sequence \"HLA-B*53\" not in /scratch/users/sschulz/pta_on_normal/CARTPt04_Scan2_svc_merged_extract_snp.vcf.gz\n",
      "Warning: Sequence \"HLA-B*54\" not in /scratch/users/sschulz/pta_on_normal/CARTPt04_Scan2_svc_merged_extract_snp.vcf.gz\n",
      "Warning: Sequence \"HLA-B*54\" not in /scratch/users/sschulz/pta_on_normal/CARTPt04_Scan2_svc_merged_extract_snp.vcf.gz\n",
      "Warning: Sequence \"HLA-B*55\" not in /scratch/users/sschulz/pta_on_normal/CARTPt04_Scan2_svc_merged_extract_snp.vcf.gz\n",
      "Warning: Sequence \"HLA-B*55\" not in /scratch/users/sschulz/pta_on_normal/CARTPt04_Scan2_svc_merged_extract_snp.vcf.gz\n",
      "Warning: Sequence \"HLA-B*55\" not in /scratch/users/sschulz/pta_on_normal/CARTPt04_Scan2_svc_merged_extract_snp.vcf.gz\n",
      "Warning: Sequence \"HLA-B*55\" not in /scratch/users/sschulz/pta_on_normal/CARTPt04_Scan2_svc_merged_extract_snp.vcf.gz\n",
      "Warning: Sequence \"HLA-B*55\" not in /scratch/users/sschulz/pta_on_normal/CARTPt04_Scan2_svc_merged_extract_snp.vcf.gz\n",
      "Warning: Sequence \"HLA-B*55\" not in /scratch/users/sschulz/pta_on_normal/CARTPt04_Scan2_svc_merged_extract_snp.vcf.gz\n",
      "Warning: Sequence \"HLA-B*56\" not in /scratch/users/sschulz/pta_on_normal/CARTPt04_Scan2_svc_merged_extract_snp.vcf.gz\n",
      "Warning: Sequence \"HLA-B*56\" not in /scratch/users/sschulz/pta_on_normal/CARTPt04_Scan2_svc_merged_extract_snp.vcf.gz\n",
      "Warning: Sequence \"HLA-B*56\" not in /scratch/users/sschulz/pta_on_normal/CARTPt04_Scan2_svc_merged_extract_snp.vcf.gz\n",
      "Warning: Sequence \"HLA-B*57\" not in /scratch/users/sschulz/pta_on_normal/CARTPt04_Scan2_svc_merged_extract_snp.vcf.gz\n",
      "Warning: Sequence \"HLA-B*57\" not in /scratch/users/sschulz/pta_on_normal/CARTPt04_Scan2_svc_merged_extract_snp.vcf.gz\n",
      "Warning: Sequence \"HLA-B*57\" not in /scratch/users/sschulz/pta_on_normal/CARTPt04_Scan2_svc_merged_extract_snp.vcf.gz\n",
      "Warning: Sequence \"HLA-B*57\" not in /scratch/users/sschulz/pta_on_normal/CARTPt04_Scan2_svc_merged_extract_snp.vcf.gz\n",
      "Warning: Sequence \"HLA-B*57\" not in /scratch/users/sschulz/pta_on_normal/CARTPt04_Scan2_svc_merged_extract_snp.vcf.gz\n",
      "Warning: Sequence \"HLA-B*58\" not in /scratch/users/sschulz/pta_on_normal/CARTPt04_Scan2_svc_merged_extract_snp.vcf.gz\n",
      "Warning: Sequence \"HLA-B*58\" not in /scratch/users/sschulz/pta_on_normal/CARTPt04_Scan2_svc_merged_extract_snp.vcf.gz\n",
      "Warning: Sequence \"HLA-B*59\" not in /scratch/users/sschulz/pta_on_normal/CARTPt04_Scan2_svc_merged_extract_snp.vcf.gz\n",
      "Warning: Sequence \"HLA-B*59\" not in /scratch/users/sschulz/pta_on_normal/CARTPt04_Scan2_svc_merged_extract_snp.vcf.gz\n",
      "Warning: Sequence \"HLA-B*67\" not in /scratch/users/sschulz/pta_on_normal/CARTPt04_Scan2_svc_merged_extract_snp.vcf.gz\n",
      "Warning: Sequence \"HLA-B*67\" not in /scratch/users/sschulz/pta_on_normal/CARTPt04_Scan2_svc_merged_extract_snp.vcf.gz\n",
      "Warning: Sequence \"HLA-B*67\" not in /scratch/users/sschulz/pta_on_normal/CARTPt04_Scan2_svc_merged_extract_snp.vcf.gz\n",
      "Warning: Sequence \"HLA-B*73\" not in /scratch/users/sschulz/pta_on_normal/CARTPt04_Scan2_svc_merged_extract_snp.vcf.gz\n",
      "Warning: Sequence \"HLA-B*78\" not in /scratch/users/sschulz/pta_on_normal/CARTPt04_Scan2_svc_merged_extract_snp.vcf.gz\n",
      "Warning: Sequence \"HLA-B*81\" not in /scratch/users/sschulz/pta_on_normal/CARTPt04_Scan2_svc_merged_extract_snp.vcf.gz\n",
      "Warning: Sequence \"HLA-B*82\" not in /scratch/users/sschulz/pta_on_normal/CARTPt04_Scan2_svc_merged_extract_snp.vcf.gz\n",
      "Warning: Sequence \"HLA-C*01\" not in /scratch/users/sschulz/pta_on_normal/CARTPt04_Scan2_svc_merged_extract_snp.vcf.gz\n",
      "Warning: Sequence \"HLA-C*01\" not in /scratch/users/sschulz/pta_on_normal/CARTPt04_Scan2_svc_merged_extract_snp.vcf.gz\n",
      "Warning: Sequence \"HLA-C*01\" not in /scratch/users/sschulz/pta_on_normal/CARTPt04_Scan2_svc_merged_extract_snp.vcf.gz\n",
      "Warning: Sequence \"HLA-C*01\" not in /scratch/users/sschulz/pta_on_normal/CARTPt04_Scan2_svc_merged_extract_snp.vcf.gz\n",
      "Warning: Sequence \"HLA-C*01\" not in /scratch/users/sschulz/pta_on_normal/CARTPt04_Scan2_svc_merged_extract_snp.vcf.gz\n",
      "Warning: Sequence \"HLA-C*01\" not in /scratch/users/sschulz/pta_on_normal/CARTPt04_Scan2_svc_merged_extract_snp.vcf.gz\n",
      "Warning: Sequence \"HLA-C*01\" not in /scratch/users/sschulz/pta_on_normal/CARTPt04_Scan2_svc_merged_extract_snp.vcf.gz\n",
      "Warning: Sequence \"HLA-C*01\" not in /scratch/users/sschulz/pta_on_normal/CARTPt04_Scan2_svc_merged_extract_snp.vcf.gz\n",
      "Warning: Sequence \"HLA-C*01\" not in /scratch/users/sschulz/pta_on_normal/CARTPt04_Scan2_svc_merged_extract_snp.vcf.gz\n",
      "Warning: Sequence \"HLA-C*01\" not in /scratch/users/sschulz/pta_on_normal/CARTPt04_Scan2_svc_merged_extract_snp.vcf.gz\n",
      "Warning: Sequence \"HLA-C*01\" not in /scratch/users/sschulz/pta_on_normal/CARTPt04_Scan2_svc_merged_extract_snp.vcf.gz\n",
      "Warning: Sequence \"HLA-C*02\" not in /scratch/users/sschulz/pta_on_normal/CARTPt04_Scan2_svc_merged_extract_snp.vcf.gz\n",
      "Warning: Sequence \"HLA-C*02\" not in /scratch/users/sschulz/pta_on_normal/CARTPt04_Scan2_svc_merged_extract_snp.vcf.gz\n",
      "Warning: Sequence \"HLA-C*02\" not in /scratch/users/sschulz/pta_on_normal/CARTPt04_Scan2_svc_merged_extract_snp.vcf.gz\n",
      "Warning: Sequence \"HLA-C*02\" not in /scratch/users/sschulz/pta_on_normal/CARTPt04_Scan2_svc_merged_extract_snp.vcf.gz\n",
      "Warning: Sequence \"HLA-C*02\" not in /scratch/users/sschulz/pta_on_normal/CARTPt04_Scan2_svc_merged_extract_snp.vcf.gz\n",
      "Warning: Sequence \"HLA-C*02\" not in /scratch/users/sschulz/pta_on_normal/CARTPt04_Scan2_svc_merged_extract_snp.vcf.gz\n",
      "Warning: Sequence \"HLA-C*02\" not in /scratch/users/sschulz/pta_on_normal/CARTPt04_Scan2_svc_merged_extract_snp.vcf.gz\n",
      "Warning: Sequence \"HLA-C*02\" not in /scratch/users/sschulz/pta_on_normal/CARTPt04_Scan2_svc_merged_extract_snp.vcf.gz\n",
      "Warning: Sequence \"HLA-C*02\" not in /scratch/users/sschulz/pta_on_normal/CARTPt04_Scan2_svc_merged_extract_snp.vcf.gz\n",
      "Warning: Sequence \"HLA-C*03\" not in /scratch/users/sschulz/pta_on_normal/CARTPt04_Scan2_svc_merged_extract_snp.vcf.gz\n",
      "Warning: Sequence \"HLA-C*03\" not in /scratch/users/sschulz/pta_on_normal/CARTPt04_Scan2_svc_merged_extract_snp.vcf.gz\n",
      "Warning: Sequence \"HLA-C*03\" not in /scratch/users/sschulz/pta_on_normal/CARTPt04_Scan2_svc_merged_extract_snp.vcf.gz\n",
      "Warning: Sequence \"HLA-C*03\" not in /scratch/users/sschulz/pta_on_normal/CARTPt04_Scan2_svc_merged_extract_snp.vcf.gz\n",
      "Warning: Sequence \"HLA-C*03\" not in /scratch/users/sschulz/pta_on_normal/CARTPt04_Scan2_svc_merged_extract_snp.vcf.gz\n",
      "Warning: Sequence \"HLA-C*03\" not in /scratch/users/sschulz/pta_on_normal/CARTPt04_Scan2_svc_merged_extract_snp.vcf.gz\n",
      "Warning: Sequence \"HLA-C*03\" not in /scratch/users/sschulz/pta_on_normal/CARTPt04_Scan2_svc_merged_extract_snp.vcf.gz\n",
      "Warning: Sequence \"HLA-C*03\" not in /scratch/users/sschulz/pta_on_normal/CARTPt04_Scan2_svc_merged_extract_snp.vcf.gz\n",
      "Warning: Sequence \"HLA-C*03\" not in /scratch/users/sschulz/pta_on_normal/CARTPt04_Scan2_svc_merged_extract_snp.vcf.gz\n",
      "Warning: Sequence \"HLA-C*03\" not in /scratch/users/sschulz/pta_on_normal/CARTPt04_Scan2_svc_merged_extract_snp.vcf.gz\n",
      "Warning: Sequence \"HLA-C*03\" not in /scratch/users/sschulz/pta_on_normal/CARTPt04_Scan2_svc_merged_extract_snp.vcf.gz\n",
      "Warning: Sequence \"HLA-C*03\" not in /scratch/users/sschulz/pta_on_normal/CARTPt04_Scan2_svc_merged_extract_snp.vcf.gz\n",
      "Warning: Sequence \"HLA-C*03\" not in /scratch/users/sschulz/pta_on_normal/CARTPt04_Scan2_svc_merged_extract_snp.vcf.gz\n",
      "Warning: Sequence \"HLA-C*03\" not in /scratch/users/sschulz/pta_on_normal/CARTPt04_Scan2_svc_merged_extract_snp.vcf.gz\n",
      "Warning: Sequence \"HLA-C*03\" not in /scratch/users/sschulz/pta_on_normal/CARTPt04_Scan2_svc_merged_extract_snp.vcf.gz\n",
      "Warning: Sequence \"HLA-C*03\" not in /scratch/users/sschulz/pta_on_normal/CARTPt04_Scan2_svc_merged_extract_snp.vcf.gz\n",
      "Warning: Sequence \"HLA-C*03\" not in /scratch/users/sschulz/pta_on_normal/CARTPt04_Scan2_svc_merged_extract_snp.vcf.gz\n",
      "Warning: Sequence \"HLA-C*03\" not in /scratch/users/sschulz/pta_on_normal/CARTPt04_Scan2_svc_merged_extract_snp.vcf.gz\n",
      "Warning: Sequence \"HLA-C*03\" not in /scratch/users/sschulz/pta_on_normal/CARTPt04_Scan2_svc_merged_extract_snp.vcf.gz\n",
      "Warning: Sequence \"HLA-C*03\" not in /scratch/users/sschulz/pta_on_normal/CARTPt04_Scan2_svc_merged_extract_snp.vcf.gz\n",
      "Warning: Sequence \"HLA-C*04\" not in /scratch/users/sschulz/pta_on_normal/CARTPt04_Scan2_svc_merged_extract_snp.vcf.gz\n",
      "Warning: Sequence \"HLA-C*04\" not in /scratch/users/sschulz/pta_on_normal/CARTPt04_Scan2_svc_merged_extract_snp.vcf.gz\n",
      "Warning: Sequence \"HLA-C*04\" not in /scratch/users/sschulz/pta_on_normal/CARTPt04_Scan2_svc_merged_extract_snp.vcf.gz\n",
      "Warning: Sequence \"HLA-C*04\" not in /scratch/users/sschulz/pta_on_normal/CARTPt04_Scan2_svc_merged_extract_snp.vcf.gz\n",
      "Warning: Sequence \"HLA-C*04\" not in /scratch/users/sschulz/pta_on_normal/CARTPt04_Scan2_svc_merged_extract_snp.vcf.gz\n",
      "Warning: Sequence \"HLA-C*04\" not in /scratch/users/sschulz/pta_on_normal/CARTPt04_Scan2_svc_merged_extract_snp.vcf.gz\n",
      "Warning: Sequence \"HLA-C*04\" not in /scratch/users/sschulz/pta_on_normal/CARTPt04_Scan2_svc_merged_extract_snp.vcf.gz\n",
      "Warning: Sequence \"HLA-C*04\" not in /scratch/users/sschulz/pta_on_normal/CARTPt04_Scan2_svc_merged_extract_snp.vcf.gz\n",
      "Warning: Sequence \"HLA-C*04\" not in /scratch/users/sschulz/pta_on_normal/CARTPt04_Scan2_svc_merged_extract_snp.vcf.gz\n",
      "Warning: Sequence \"HLA-C*04\" not in /scratch/users/sschulz/pta_on_normal/CARTPt04_Scan2_svc_merged_extract_snp.vcf.gz\n",
      "Warning: Sequence \"HLA-C*04\" not in /scratch/users/sschulz/pta_on_normal/CARTPt04_Scan2_svc_merged_extract_snp.vcf.gz\n",
      "Warning: Sequence \"HLA-C*04\" not in /scratch/users/sschulz/pta_on_normal/CARTPt04_Scan2_svc_merged_extract_snp.vcf.gz\n",
      "Warning: Sequence \"HLA-C*04\" not in /scratch/users/sschulz/pta_on_normal/CARTPt04_Scan2_svc_merged_extract_snp.vcf.gz\n",
      "Warning: Sequence \"HLA-C*04\" not in /scratch/users/sschulz/pta_on_normal/CARTPt04_Scan2_svc_merged_extract_snp.vcf.gz\n",
      "Warning: Sequence \"HLA-C*05\" not in /scratch/users/sschulz/pta_on_normal/CARTPt04_Scan2_svc_merged_extract_snp.vcf.gz\n",
      "Warning: Sequence \"HLA-C*05\" not in /scratch/users/sschulz/pta_on_normal/CARTPt04_Scan2_svc_merged_extract_snp.vcf.gz\n",
      "Warning: Sequence \"HLA-C*05\" not in /scratch/users/sschulz/pta_on_normal/CARTPt04_Scan2_svc_merged_extract_snp.vcf.gz\n",
      "Warning: Sequence \"HLA-C*05\" not in /scratch/users/sschulz/pta_on_normal/CARTPt04_Scan2_svc_merged_extract_snp.vcf.gz\n",
      "Warning: Sequence \"HLA-C*05\" not in /scratch/users/sschulz/pta_on_normal/CARTPt04_Scan2_svc_merged_extract_snp.vcf.gz\n",
      "Warning: Sequence \"HLA-C*06\" not in /scratch/users/sschulz/pta_on_normal/CARTPt04_Scan2_svc_merged_extract_snp.vcf.gz\n",
      "Warning: Sequence \"HLA-C*06\" not in /scratch/users/sschulz/pta_on_normal/CARTPt04_Scan2_svc_merged_extract_snp.vcf.gz\n",
      "Warning: Sequence \"HLA-C*06\" not in /scratch/users/sschulz/pta_on_normal/CARTPt04_Scan2_svc_merged_extract_snp.vcf.gz\n",
      "Warning: Sequence \"HLA-C*06\" not in /scratch/users/sschulz/pta_on_normal/CARTPt04_Scan2_svc_merged_extract_snp.vcf.gz\n",
      "Warning: Sequence \"HLA-C*06\" not in /scratch/users/sschulz/pta_on_normal/CARTPt04_Scan2_svc_merged_extract_snp.vcf.gz\n",
      "Warning: Sequence \"HLA-C*06\" not in /scratch/users/sschulz/pta_on_normal/CARTPt04_Scan2_svc_merged_extract_snp.vcf.gz\n",
      "Warning: Sequence \"HLA-C*07\" not in /scratch/users/sschulz/pta_on_normal/CARTPt04_Scan2_svc_merged_extract_snp.vcf.gz\n",
      "Warning: Sequence \"HLA-C*07\" not in /scratch/users/sschulz/pta_on_normal/CARTPt04_Scan2_svc_merged_extract_snp.vcf.gz\n",
      "Warning: Sequence \"HLA-C*07\" not in /scratch/users/sschulz/pta_on_normal/CARTPt04_Scan2_svc_merged_extract_snp.vcf.gz\n",
      "Warning: Sequence \"HLA-C*07\" not in /scratch/users/sschulz/pta_on_normal/CARTPt04_Scan2_svc_merged_extract_snp.vcf.gz\n",
      "Warning: Sequence \"HLA-C*07\" not in /scratch/users/sschulz/pta_on_normal/CARTPt04_Scan2_svc_merged_extract_snp.vcf.gz\n",
      "Warning: Sequence \"HLA-C*07\" not in /scratch/users/sschulz/pta_on_normal/CARTPt04_Scan2_svc_merged_extract_snp.vcf.gz\n",
      "Warning: Sequence \"HLA-C*07\" not in /scratch/users/sschulz/pta_on_normal/CARTPt04_Scan2_svc_merged_extract_snp.vcf.gz\n",
      "Warning: Sequence \"HLA-C*07\" not in /scratch/users/sschulz/pta_on_normal/CARTPt04_Scan2_svc_merged_extract_snp.vcf.gz\n",
      "Warning: Sequence \"HLA-C*07\" not in /scratch/users/sschulz/pta_on_normal/CARTPt04_Scan2_svc_merged_extract_snp.vcf.gz\n",
      "Warning: Sequence \"HLA-C*07\" not in /scratch/users/sschulz/pta_on_normal/CARTPt04_Scan2_svc_merged_extract_snp.vcf.gz\n",
      "Warning: Sequence \"HLA-C*07\" not in /scratch/users/sschulz/pta_on_normal/CARTPt04_Scan2_svc_merged_extract_snp.vcf.gz\n",
      "Warning: Sequence \"HLA-C*07\" not in /scratch/users/sschulz/pta_on_normal/CARTPt04_Scan2_svc_merged_extract_snp.vcf.gz\n",
      "Warning: Sequence \"HLA-C*07\" not in /scratch/users/sschulz/pta_on_normal/CARTPt04_Scan2_svc_merged_extract_snp.vcf.gz\n",
      "Warning: Sequence \"HLA-C*07\" not in /scratch/users/sschulz/pta_on_normal/CARTPt04_Scan2_svc_merged_extract_snp.vcf.gz\n",
      "Warning: Sequence \"HLA-C*07\" not in /scratch/users/sschulz/pta_on_normal/CARTPt04_Scan2_svc_merged_extract_snp.vcf.gz\n",
      "Warning: Sequence \"HLA-C*07\" not in /scratch/users/sschulz/pta_on_normal/CARTPt04_Scan2_svc_merged_extract_snp.vcf.gz\n",
      "Warning: Sequence \"HLA-C*07\" not in /scratch/users/sschulz/pta_on_normal/CARTPt04_Scan2_svc_merged_extract_snp.vcf.gz\n",
      "Warning: Sequence \"HLA-C*07\" not in /scratch/users/sschulz/pta_on_normal/CARTPt04_Scan2_svc_merged_extract_snp.vcf.gz\n",
      "Warning: Sequence \"HLA-C*07\" not in /scratch/users/sschulz/pta_on_normal/CARTPt04_Scan2_svc_merged_extract_snp.vcf.gz\n",
      "Warning: Sequence \"HLA-C*07\" not in /scratch/users/sschulz/pta_on_normal/CARTPt04_Scan2_svc_merged_extract_snp.vcf.gz\n",
      "Warning: Sequence \"HLA-C*07\" not in /scratch/users/sschulz/pta_on_normal/CARTPt04_Scan2_svc_merged_extract_snp.vcf.gz\n",
      "Warning: Sequence \"HLA-C*07\" not in /scratch/users/sschulz/pta_on_normal/CARTPt04_Scan2_svc_merged_extract_snp.vcf.gz\n",
      "Warning: Sequence \"HLA-C*07\" not in /scratch/users/sschulz/pta_on_normal/CARTPt04_Scan2_svc_merged_extract_snp.vcf.gz\n",
      "Warning: Sequence \"HLA-C*07\" not in /scratch/users/sschulz/pta_on_normal/CARTPt04_Scan2_svc_merged_extract_snp.vcf.gz\n",
      "Warning: Sequence \"HLA-C*07\" not in /scratch/users/sschulz/pta_on_normal/CARTPt04_Scan2_svc_merged_extract_snp.vcf.gz\n",
      "Warning: Sequence \"HLA-C*07\" not in /scratch/users/sschulz/pta_on_normal/CARTPt04_Scan2_svc_merged_extract_snp.vcf.gz\n",
      "Warning: Sequence \"HLA-C*07\" not in /scratch/users/sschulz/pta_on_normal/CARTPt04_Scan2_svc_merged_extract_snp.vcf.gz\n",
      "Warning: Sequence \"HLA-C*07\" not in /scratch/users/sschulz/pta_on_normal/CARTPt04_Scan2_svc_merged_extract_snp.vcf.gz\n",
      "Warning: Sequence \"HLA-C*07\" not in /scratch/users/sschulz/pta_on_normal/CARTPt04_Scan2_svc_merged_extract_snp.vcf.gz\n",
      "Warning: Sequence \"HLA-C*07\" not in /scratch/users/sschulz/pta_on_normal/CARTPt04_Scan2_svc_merged_extract_snp.vcf.gz\n",
      "Warning: Sequence \"HLA-C*07\" not in /scratch/users/sschulz/pta_on_normal/CARTPt04_Scan2_svc_merged_extract_snp.vcf.gz\n",
      "Warning: Sequence \"HLA-C*07\" not in /scratch/users/sschulz/pta_on_normal/CARTPt04_Scan2_svc_merged_extract_snp.vcf.gz\n",
      "Warning: Sequence \"HLA-C*08\" not in /scratch/users/sschulz/pta_on_normal/CARTPt04_Scan2_svc_merged_extract_snp.vcf.gz\n",
      "Warning: Sequence \"HLA-C*08\" not in /scratch/users/sschulz/pta_on_normal/CARTPt04_Scan2_svc_merged_extract_snp.vcf.gz\n",
      "Warning: Sequence \"HLA-C*08\" not in /scratch/users/sschulz/pta_on_normal/CARTPt04_Scan2_svc_merged_extract_snp.vcf.gz\n",
      "Warning: Sequence \"HLA-C*08\" not in /scratch/users/sschulz/pta_on_normal/CARTPt04_Scan2_svc_merged_extract_snp.vcf.gz\n",
      "Warning: Sequence \"HLA-C*08\" not in /scratch/users/sschulz/pta_on_normal/CARTPt04_Scan2_svc_merged_extract_snp.vcf.gz\n",
      "Warning: Sequence \"HLA-C*08\" not in /scratch/users/sschulz/pta_on_normal/CARTPt04_Scan2_svc_merged_extract_snp.vcf.gz\n",
      "Warning: Sequence \"HLA-C*08\" not in /scratch/users/sschulz/pta_on_normal/CARTPt04_Scan2_svc_merged_extract_snp.vcf.gz\n",
      "Warning: Sequence \"HLA-C*08\" not in /scratch/users/sschulz/pta_on_normal/CARTPt04_Scan2_svc_merged_extract_snp.vcf.gz\n",
      "Warning: Sequence \"HLA-C*08\" not in /scratch/users/sschulz/pta_on_normal/CARTPt04_Scan2_svc_merged_extract_snp.vcf.gz\n",
      "Warning: Sequence \"HLA-C*08\" not in /scratch/users/sschulz/pta_on_normal/CARTPt04_Scan2_svc_merged_extract_snp.vcf.gz\n",
      "Warning: Sequence \"HLA-C*08\" not in /scratch/users/sschulz/pta_on_normal/CARTPt04_Scan2_svc_merged_extract_snp.vcf.gz\n",
      "Warning: Sequence \"HLA-C*08\" not in /scratch/users/sschulz/pta_on_normal/CARTPt04_Scan2_svc_merged_extract_snp.vcf.gz\n",
      "Warning: Sequence \"HLA-C*08\" not in /scratch/users/sschulz/pta_on_normal/CARTPt04_Scan2_svc_merged_extract_snp.vcf.gz\n",
      "Warning: Sequence \"HLA-C*08\" not in /scratch/users/sschulz/pta_on_normal/CARTPt04_Scan2_svc_merged_extract_snp.vcf.gz\n",
      "Warning: Sequence \"HLA-C*08\" not in /scratch/users/sschulz/pta_on_normal/CARTPt04_Scan2_svc_merged_extract_snp.vcf.gz\n",
      "Warning: Sequence \"HLA-C*08\" not in /scratch/users/sschulz/pta_on_normal/CARTPt04_Scan2_svc_merged_extract_snp.vcf.gz\n",
      "Warning: Sequence \"HLA-C*12\" not in /scratch/users/sschulz/pta_on_normal/CARTPt04_Scan2_svc_merged_extract_snp.vcf.gz\n",
      "Warning: Sequence \"HLA-C*12\" not in /scratch/users/sschulz/pta_on_normal/CARTPt04_Scan2_svc_merged_extract_snp.vcf.gz\n",
      "Warning: Sequence \"HLA-C*12\" not in /scratch/users/sschulz/pta_on_normal/CARTPt04_Scan2_svc_merged_extract_snp.vcf.gz\n",
      "Warning: Sequence \"HLA-C*12\" not in /scratch/users/sschulz/pta_on_normal/CARTPt04_Scan2_svc_merged_extract_snp.vcf.gz\n",
      "Warning: Sequence \"HLA-C*12\" not in /scratch/users/sschulz/pta_on_normal/CARTPt04_Scan2_svc_merged_extract_snp.vcf.gz\n",
      "Warning: Sequence \"HLA-C*12\" not in /scratch/users/sschulz/pta_on_normal/CARTPt04_Scan2_svc_merged_extract_snp.vcf.gz\n",
      "Warning: Sequence \"HLA-C*12\" not in /scratch/users/sschulz/pta_on_normal/CARTPt04_Scan2_svc_merged_extract_snp.vcf.gz\n",
      "Warning: Sequence \"HLA-C*12\" not in /scratch/users/sschulz/pta_on_normal/CARTPt04_Scan2_svc_merged_extract_snp.vcf.gz\n",
      "Warning: Sequence \"HLA-C*14\" not in /scratch/users/sschulz/pta_on_normal/CARTPt04_Scan2_svc_merged_extract_snp.vcf.gz\n",
      "Warning: Sequence \"HLA-C*14\" not in /scratch/users/sschulz/pta_on_normal/CARTPt04_Scan2_svc_merged_extract_snp.vcf.gz\n",
      "Warning: Sequence \"HLA-C*14\" not in /scratch/users/sschulz/pta_on_normal/CARTPt04_Scan2_svc_merged_extract_snp.vcf.gz\n",
      "Warning: Sequence \"HLA-C*14\" not in /scratch/users/sschulz/pta_on_normal/CARTPt04_Scan2_svc_merged_extract_snp.vcf.gz\n",
      "Warning: Sequence \"HLA-C*15\" not in /scratch/users/sschulz/pta_on_normal/CARTPt04_Scan2_svc_merged_extract_snp.vcf.gz\n",
      "Warning: Sequence \"HLA-C*15\" not in /scratch/users/sschulz/pta_on_normal/CARTPt04_Scan2_svc_merged_extract_snp.vcf.gz\n",
      "Warning: Sequence \"HLA-C*15\" not in /scratch/users/sschulz/pta_on_normal/CARTPt04_Scan2_svc_merged_extract_snp.vcf.gz\n",
      "Warning: Sequence \"HLA-C*15\" not in /scratch/users/sschulz/pta_on_normal/CARTPt04_Scan2_svc_merged_extract_snp.vcf.gz\n",
      "Warning: Sequence \"HLA-C*15\" not in /scratch/users/sschulz/pta_on_normal/CARTPt04_Scan2_svc_merged_extract_snp.vcf.gz\n",
      "Warning: Sequence \"HLA-C*15\" not in /scratch/users/sschulz/pta_on_normal/CARTPt04_Scan2_svc_merged_extract_snp.vcf.gz\n",
      "Warning: Sequence \"HLA-C*15\" not in /scratch/users/sschulz/pta_on_normal/CARTPt04_Scan2_svc_merged_extract_snp.vcf.gz\n",
      "Warning: Sequence \"HLA-C*16\" not in /scratch/users/sschulz/pta_on_normal/CARTPt04_Scan2_svc_merged_extract_snp.vcf.gz\n",
      "Warning: Sequence \"HLA-C*16\" not in /scratch/users/sschulz/pta_on_normal/CARTPt04_Scan2_svc_merged_extract_snp.vcf.gz\n",
      "Warning: Sequence \"HLA-C*16\" not in /scratch/users/sschulz/pta_on_normal/CARTPt04_Scan2_svc_merged_extract_snp.vcf.gz\n",
      "Warning: Sequence \"HLA-C*17\" not in /scratch/users/sschulz/pta_on_normal/CARTPt04_Scan2_svc_merged_extract_snp.vcf.gz\n",
      "Warning: Sequence \"HLA-C*17\" not in /scratch/users/sschulz/pta_on_normal/CARTPt04_Scan2_svc_merged_extract_snp.vcf.gz\n",
      "Warning: Sequence \"HLA-C*17\" not in /scratch/users/sschulz/pta_on_normal/CARTPt04_Scan2_svc_merged_extract_snp.vcf.gz\n",
      "Warning: Sequence \"HLA-C*17\" not in /scratch/users/sschulz/pta_on_normal/CARTPt04_Scan2_svc_merged_extract_snp.vcf.gz\n",
      "Warning: Sequence \"HLA-C*18\" not in /scratch/users/sschulz/pta_on_normal/CARTPt04_Scan2_svc_merged_extract_snp.vcf.gz\n",
      "Warning: Sequence \"HLA-DQA1*01\" not in /scratch/users/sschulz/pta_on_normal/CARTPt04_Scan2_svc_merged_extract_snp.vcf.gz\n",
      "Warning: Sequence \"HLA-DQA1*01\" not in /scratch/users/sschulz/pta_on_normal/CARTPt04_Scan2_svc_merged_extract_snp.vcf.gz\n",
      "Warning: Sequence \"HLA-DQA1*01\" not in /scratch/users/sschulz/pta_on_normal/CARTPt04_Scan2_svc_merged_extract_snp.vcf.gz\n",
      "Warning: Sequence \"HLA-DQA1*01\" not in /scratch/users/sschulz/pta_on_normal/CARTPt04_Scan2_svc_merged_extract_snp.vcf.gz\n",
      "Warning: Sequence \"HLA-DQA1*01\" not in /scratch/users/sschulz/pta_on_normal/CARTPt04_Scan2_svc_merged_extract_snp.vcf.gz\n",
      "Warning: Sequence \"HLA-DQA1*01\" not in /scratch/users/sschulz/pta_on_normal/CARTPt04_Scan2_svc_merged_extract_snp.vcf.gz\n",
      "Warning: Sequence \"HLA-DQA1*01\" not in /scratch/users/sschulz/pta_on_normal/CARTPt04_Scan2_svc_merged_extract_snp.vcf.gz\n",
      "Warning: Sequence \"HLA-DQA1*01\" not in /scratch/users/sschulz/pta_on_normal/CARTPt04_Scan2_svc_merged_extract_snp.vcf.gz\n",
      "Warning: Sequence \"HLA-DQA1*01\" not in /scratch/users/sschulz/pta_on_normal/CARTPt04_Scan2_svc_merged_extract_snp.vcf.gz\n",
      "Warning: Sequence \"HLA-DQA1*01\" not in /scratch/users/sschulz/pta_on_normal/CARTPt04_Scan2_svc_merged_extract_snp.vcf.gz\n",
      "Warning: Sequence \"HLA-DQA1*01\" not in /scratch/users/sschulz/pta_on_normal/CARTPt04_Scan2_svc_merged_extract_snp.vcf.gz\n",
      "Warning: Sequence \"HLA-DQA1*01\" not in /scratch/users/sschulz/pta_on_normal/CARTPt04_Scan2_svc_merged_extract_snp.vcf.gz\n",
      "Warning: Sequence \"HLA-DQA1*01\" not in /scratch/users/sschulz/pta_on_normal/CARTPt04_Scan2_svc_merged_extract_snp.vcf.gz\n",
      "Warning: Sequence \"HLA-DQA1*02\" not in /scratch/users/sschulz/pta_on_normal/CARTPt04_Scan2_svc_merged_extract_snp.vcf.gz\n",
      "Warning: Sequence \"HLA-DQA1*03\" not in /scratch/users/sschulz/pta_on_normal/CARTPt04_Scan2_svc_merged_extract_snp.vcf.gz\n",
      "Warning: Sequence \"HLA-DQA1*03\" not in /scratch/users/sschulz/pta_on_normal/CARTPt04_Scan2_svc_merged_extract_snp.vcf.gz\n",
      "Warning: Sequence \"HLA-DQA1*03\" not in /scratch/users/sschulz/pta_on_normal/CARTPt04_Scan2_svc_merged_extract_snp.vcf.gz\n",
      "Warning: Sequence \"HLA-DQA1*04\" not in /scratch/users/sschulz/pta_on_normal/CARTPt04_Scan2_svc_merged_extract_snp.vcf.gz\n",
      "Warning: Sequence \"HLA-DQA1*04\" not in /scratch/users/sschulz/pta_on_normal/CARTPt04_Scan2_svc_merged_extract_snp.vcf.gz\n",
      "Warning: Sequence \"HLA-DQA1*04\" not in /scratch/users/sschulz/pta_on_normal/CARTPt04_Scan2_svc_merged_extract_snp.vcf.gz\n",
      "Warning: Sequence \"HLA-DQA1*05\" not in /scratch/users/sschulz/pta_on_normal/CARTPt04_Scan2_svc_merged_extract_snp.vcf.gz\n",
      "Warning: Sequence \"HLA-DQA1*05\" not in /scratch/users/sschulz/pta_on_normal/CARTPt04_Scan2_svc_merged_extract_snp.vcf.gz\n",
      "Warning: Sequence \"HLA-DQA1*05\" not in /scratch/users/sschulz/pta_on_normal/CARTPt04_Scan2_svc_merged_extract_snp.vcf.gz\n",
      "Warning: Sequence \"HLA-DQA1*05\" not in /scratch/users/sschulz/pta_on_normal/CARTPt04_Scan2_svc_merged_extract_snp.vcf.gz\n",
      "Warning: Sequence \"HLA-DQA1*05\" not in /scratch/users/sschulz/pta_on_normal/CARTPt04_Scan2_svc_merged_extract_snp.vcf.gz\n",
      "Warning: Sequence \"HLA-DQA1*05\" not in /scratch/users/sschulz/pta_on_normal/CARTPt04_Scan2_svc_merged_extract_snp.vcf.gz\n",
      "Warning: Sequence \"HLA-DQA1*05\" not in /scratch/users/sschulz/pta_on_normal/CARTPt04_Scan2_svc_merged_extract_snp.vcf.gz\n",
      "Warning: Sequence \"HLA-DQA1*06\" not in /scratch/users/sschulz/pta_on_normal/CARTPt04_Scan2_svc_merged_extract_snp.vcf.gz\n",
      "Warning: Sequence \"HLA-DQB1*02\" not in /scratch/users/sschulz/pta_on_normal/CARTPt04_Scan2_svc_merged_extract_snp.vcf.gz\n",
      "Warning: Sequence \"HLA-DQB1*02\" not in /scratch/users/sschulz/pta_on_normal/CARTPt04_Scan2_svc_merged_extract_snp.vcf.gz\n",
      "Warning: Sequence \"HLA-DQB1*03\" not in /scratch/users/sschulz/pta_on_normal/CARTPt04_Scan2_svc_merged_extract_snp.vcf.gz\n",
      "Warning: Sequence \"HLA-DQB1*03\" not in /scratch/users/sschulz/pta_on_normal/CARTPt04_Scan2_svc_merged_extract_snp.vcf.gz\n",
      "Warning: Sequence \"HLA-DQB1*03\" not in /scratch/users/sschulz/pta_on_normal/CARTPt04_Scan2_svc_merged_extract_snp.vcf.gz\n",
      "Warning: Sequence \"HLA-DQB1*03\" not in /scratch/users/sschulz/pta_on_normal/CARTPt04_Scan2_svc_merged_extract_snp.vcf.gz\n",
      "Warning: Sequence \"HLA-DQB1*03\" not in /scratch/users/sschulz/pta_on_normal/CARTPt04_Scan2_svc_merged_extract_snp.vcf.gz\n",
      "Warning: Sequence \"HLA-DQB1*03\" not in /scratch/users/sschulz/pta_on_normal/CARTPt04_Scan2_svc_merged_extract_snp.vcf.gz\n",
      "Warning: Sequence \"HLA-DQB1*03\" not in /scratch/users/sschulz/pta_on_normal/CARTPt04_Scan2_svc_merged_extract_snp.vcf.gz\n",
      "Warning: Sequence \"HLA-DQB1*03\" not in /scratch/users/sschulz/pta_on_normal/CARTPt04_Scan2_svc_merged_extract_snp.vcf.gz\n",
      "Warning: Sequence \"HLA-DQB1*05\" not in /scratch/users/sschulz/pta_on_normal/CARTPt04_Scan2_svc_merged_extract_snp.vcf.gz\n",
      "Warning: Sequence \"HLA-DQB1*05\" not in /scratch/users/sschulz/pta_on_normal/CARTPt04_Scan2_svc_merged_extract_snp.vcf.gz\n",
      "Warning: Sequence \"HLA-DQB1*05\" not in /scratch/users/sschulz/pta_on_normal/CARTPt04_Scan2_svc_merged_extract_snp.vcf.gz\n",
      "Warning: Sequence \"HLA-DQB1*05\" not in /scratch/users/sschulz/pta_on_normal/CARTPt04_Scan2_svc_merged_extract_snp.vcf.gz\n",
      "Warning: Sequence \"HLA-DQB1*06\" not in /scratch/users/sschulz/pta_on_normal/CARTPt04_Scan2_svc_merged_extract_snp.vcf.gz\n",
      "Warning: Sequence \"HLA-DQB1*06\" not in /scratch/users/sschulz/pta_on_normal/CARTPt04_Scan2_svc_merged_extract_snp.vcf.gz\n",
      "Warning: Sequence \"HLA-DQB1*06\" not in /scratch/users/sschulz/pta_on_normal/CARTPt04_Scan2_svc_merged_extract_snp.vcf.gz\n",
      "Warning: Sequence \"HLA-DQB1*06\" not in /scratch/users/sschulz/pta_on_normal/CARTPt04_Scan2_svc_merged_extract_snp.vcf.gz\n",
      "Warning: Sequence \"HLA-DRB1*01\" not in /scratch/users/sschulz/pta_on_normal/CARTPt04_Scan2_svc_merged_extract_snp.vcf.gz\n",
      "Warning: Sequence \"HLA-DRB1*01\" not in /scratch/users/sschulz/pta_on_normal/CARTPt04_Scan2_svc_merged_extract_snp.vcf.gz\n",
      "Warning: Sequence \"HLA-DRB1*03\" not in /scratch/users/sschulz/pta_on_normal/CARTPt04_Scan2_svc_merged_extract_snp.vcf.gz\n",
      "Warning: Sequence \"HLA-DRB1*03\" not in /scratch/users/sschulz/pta_on_normal/CARTPt04_Scan2_svc_merged_extract_snp.vcf.gz\n",
      "Warning: Sequence \"HLA-DRB1*04\" not in /scratch/users/sschulz/pta_on_normal/CARTPt04_Scan2_svc_merged_extract_snp.vcf.gz\n",
      "Warning: Sequence \"HLA-DRB1*07\" not in /scratch/users/sschulz/pta_on_normal/CARTPt04_Scan2_svc_merged_extract_snp.vcf.gz\n",
      "Warning: Sequence \"HLA-DRB1*07\" not in /scratch/users/sschulz/pta_on_normal/CARTPt04_Scan2_svc_merged_extract_snp.vcf.gz\n",
      "Warning: Sequence \"HLA-DRB1*08\" not in /scratch/users/sschulz/pta_on_normal/CARTPt04_Scan2_svc_merged_extract_snp.vcf.gz\n",
      "Warning: Sequence \"HLA-DRB1*09\" not in /scratch/users/sschulz/pta_on_normal/CARTPt04_Scan2_svc_merged_extract_snp.vcf.gz\n",
      "Warning: Sequence \"HLA-DRB1*10\" not in /scratch/users/sschulz/pta_on_normal/CARTPt04_Scan2_svc_merged_extract_snp.vcf.gz\n",
      "Warning: Sequence \"HLA-DRB1*11\" not in /scratch/users/sschulz/pta_on_normal/CARTPt04_Scan2_svc_merged_extract_snp.vcf.gz\n",
      "Warning: Sequence \"HLA-DRB1*11\" not in /scratch/users/sschulz/pta_on_normal/CARTPt04_Scan2_svc_merged_extract_snp.vcf.gz\n",
      "Warning: Sequence \"HLA-DRB1*11\" not in /scratch/users/sschulz/pta_on_normal/CARTPt04_Scan2_svc_merged_extract_snp.vcf.gz\n",
      "Warning: Sequence \"HLA-DRB1*12\" not in /scratch/users/sschulz/pta_on_normal/CARTPt04_Scan2_svc_merged_extract_snp.vcf.gz\n",
      "Warning: Sequence \"HLA-DRB1*12\" not in /scratch/users/sschulz/pta_on_normal/CARTPt04_Scan2_svc_merged_extract_snp.vcf.gz\n",
      "Warning: Sequence \"HLA-DRB1*13\" not in /scratch/users/sschulz/pta_on_normal/CARTPt04_Scan2_svc_merged_extract_snp.vcf.gz\n",
      "Warning: Sequence \"HLA-DRB1*13\" not in /scratch/users/sschulz/pta_on_normal/CARTPt04_Scan2_svc_merged_extract_snp.vcf.gz\n",
      "Warning: Sequence \"HLA-DRB1*14\" not in /scratch/users/sschulz/pta_on_normal/CARTPt04_Scan2_svc_merged_extract_snp.vcf.gz\n",
      "Warning: Sequence \"HLA-DRB1*14\" not in /scratch/users/sschulz/pta_on_normal/CARTPt04_Scan2_svc_merged_extract_snp.vcf.gz\n",
      "Warning: Sequence \"HLA-DRB1*15\" not in /scratch/users/sschulz/pta_on_normal/CARTPt04_Scan2_svc_merged_extract_snp.vcf.gz\n",
      "Warning: Sequence \"HLA-DRB1*15\" not in /scratch/users/sschulz/pta_on_normal/CARTPt04_Scan2_svc_merged_extract_snp.vcf.gz\n",
      "Warning: Sequence \"HLA-DRB1*15\" not in /scratch/users/sschulz/pta_on_normal/CARTPt04_Scan2_svc_merged_extract_snp.vcf.gz\n",
      "Warning: Sequence \"HLA-DRB1*15\" not in /scratch/users/sschulz/pta_on_normal/CARTPt04_Scan2_svc_merged_extract_snp.vcf.gz\n",
      "Warning: Sequence \"HLA-DRB1*15\" not in /scratch/users/sschulz/pta_on_normal/CARTPt04_Scan2_svc_merged_extract_snp.vcf.gz\n",
      "Warning: Sequence \"HLA-DRB1*15\" not in /scratch/users/sschulz/pta_on_normal/CARTPt04_Scan2_svc_merged_extract_snp.vcf.gz\n",
      "Warning: Sequence \"HLA-DRB1*15\" not in /scratch/users/sschulz/pta_on_normal/CARTPt04_Scan2_svc_merged_extract_snp.vcf.gz\n",
      "Warning: Sequence \"HLA-DRB1*16\" not in /scratch/users/sschulz/pta_on_normal/CARTPt04_Scan2_svc_merged_extract_snp.vcf.gz\n",
      "Applied 80864 variants\n"
     ]
    }
   ],
   "source": [
    "## preprocessing the target fasta\n",
    "vcf_file=bam_dir +'/CARTPt04_Scan2_svc_merged_extract_snp.vcf.gz'\n",
    "ref_fasta=bam_dir + '/Homo_sapiens_assembly38.fasta'\n",
    "results_dir=bam_dir\n",
    "output_fasta_fn='final_fasta.fasta'\n",
    "if preprocess_bam:\n",
    "    preProcessVCF(vcf_file, ref_fasta, results_dir, output_fasta_fn, sbatch)"
   ]
  },
  {
   "cell_type": "code",
   "execution_count": null,
   "id": "35f89d49-d108-44f4-8d81-d38a9f1db215",
   "metadata": {},
   "outputs": [],
   "source": [
    "## preprocessing the input fasta\n",
    "vcf_file=bam_dir +'/CARTPt04_Scan2_svc_merged_extract_snp.vcf.gz'\n",
    "ref_fasta=bam_dir + '/Homo_sapiens_assembly38.fasta'\n",
    "results_dir=bam_dir\n",
    "output_fasta_fn='test_fasta.fasta'\n",
    "if preprocess_bam:\n",
    "    preProcessVCF(vcf_file, ref_fasta, results_dir, output_fasta_fn, sbatch)"
   ]
  },
  {
   "cell_type": "markdown",
   "id": "2506a144-6c45-4ec9-abf4-5b6bdf94ec92",
   "metadata": {},
   "source": [
    "## get one-hot encodings with torch"
   ]
  },
  {
   "cell_type": "code",
   "execution_count": 11,
   "id": "03e8c54d-1b42-4d3b-b253-6045659d6b93",
   "metadata": {},
   "outputs": [
    {
     "name": "stderr",
     "output_type": "stream",
     "text": [
      "/tmp/ipykernel_28624/318148619.py:8: DeprecationWarning: The binary mode of fromstring is deprecated, as it behaves surprisingly on unicode inputs. Use frombuffer instead\n",
      "  np_seq_chrs = list(map(lambda t: np.fromstring(t, dtype = np.uint8), seq_strs))\n"
     ]
    }
   ],
   "source": [
    "lines_of_fasta_file=3000\n",
    "targetFastaFilePath = bam_dir + '/final_fasta.fasta'\n",
    "\n",
    "target = makeOneHot(targetFastaFilePath, lines_of_fasta_file)"
   ]
  },
  {
   "cell_type": "code",
   "execution_count": null,
   "id": "42c6475a-efb6-4ccf-a482-991fb45074c3",
   "metadata": {},
   "outputs": [],
   "source": [
    "lines_of_fasta_file=3000\n",
    "inputFastaFilePath = bam_dir + '/test_fasta.fasta'\n",
    "\n",
    "input_seq = makeOneHot(targetFastaFilePath, lines_of_fasta_file)"
   ]
  },
  {
   "cell_type": "code",
   "execution_count": 12,
   "id": "a7b83a01-60c4-47b3-a023-448e3bc0ccb5",
   "metadata": {
    "tags": []
   },
   "outputs": [
    {
     "data": {
      "text/plain": [
       "3000"
      ]
     },
     "execution_count": 12,
     "metadata": {},
     "output_type": "execute_result"
    }
   ],
   "source": [
    "input_seq = input_seq.cuda()"
   ]
  },
  {
   "cell_type": "code",
   "execution_count": null,
   "id": "fbf89ffc-e6f7-4307-b2ea-f86974184bba",
   "metadata": {},
   "outputs": [],
   "source": [
    "target = target.cuda()"
   ]
  },
  {
   "cell_type": "markdown",
   "id": "60a7ae09-eb18-4b7d-8503-e1f9a37e8e63",
   "metadata": {},
   "source": [
    "## Run the model on new DNA tracks with somatic mutations detected in normal cells"
   ]
  },
  {
   "cell_type": "code",
   "execution_count": null,
   "id": "a19efb5d-f255-47fa-9ecb-ade7f30d910c",
   "metadata": {},
   "outputs": [],
   "source": [
    "import torch\n",
    "from enformer_pytorch import Enformer, seq_indices_to_one_hot\n",
    "\n",
    "# will need to figure out correct way to configure hyperparams\n",
    "model = Enformer.from_hparams(\n",
    "    dim = 1536,\n",
    "    depth = 11,\n",
    "    heads = 8,\n",
    "    output_heads = dict(human = 5313), #<- tbh idk what the correct number of output heads should be\n",
    "    target_length = 3000,\n",
    ")\n",
    "\n",
    "\n",
    "output, embeddings = model(seq, return_embeddings = True)\n",
    "\n",
    "'''\n",
    "    target should EITHER be the one hot encodings of an input fasta with many artifacts, or the weights from \n",
    "    just running the model on the one hot encodings without a target, not exactly sure which but try the \n",
    "    one hot encodigns first\n",
    "    \n",
    "    input_seq should be the one-hot embeddings of any fasta\n",
    "    \n",
    "    corr_coef should be higher if many artifacts, lower if not many artifacts. check against a bulk sequencing sample,\n",
    "    another fasta that should have normal artifacts in it, and a single cell DNA sequencing sample\n",
    "'''\n",
    "\n",
    "loss, embeddings = model(\n",
    "    input_seq,\n",
    "    head = 'human',\n",
    "    target = target,\n",
    "    return_embeddings = True\n",
    ")\n",
    "\n",
    "loss.backward()\n",
    "\n",
    "# after much training\n",
    "\n",
    "corr_coef = model(\n",
    "    seq,\n",
    "    head = 'human',\n",
    "    target = target,\n",
    "    return_corr_coef = True\n",
    ")\n",
    "\n",
    "corr_coef # pearson R, used as a metric in the paper. For our first test, this should return something close to 1, since \n",
    "          # we are running it on the exact same fasta file as a sanity check\n"
   ]
  },
  {
   "cell_type": "markdown",
   "id": "f1142a45-1dd7-4798-a956-12080533b04e",
   "metadata": {
    "tags": []
   },
   "source": [
    "## Run the model with finetuning"
   ]
  },
  {
   "cell_type": "code",
   "execution_count": 26,
   "id": "c5ea8b29-7eab-4356-bab1-7d8a457542ec",
   "metadata": {
    "collapsed": true,
    "jupyter": {
     "outputs_hidden": true
    },
    "tags": []
   },
   "outputs": [
    {
     "name": "stderr",
     "output_type": "stream",
     "text": [
      "Downloading (…)lve/main/config.json: 100%|████████████████████████████████████████████████████████████████████████████████████| 439/439 [00:00<00:00, 273kB/s]\n",
      "Downloading pytorch_model.bin: 100%|█████████████████████████████████████████████████████████████████████████████████████| 1.01G/1.01G [00:11<00:00, 87.2MB/s]\n"
     ]
    },
    {
     "ename": "OSError",
     "evalue": "[Errno 28] No space left on device",
     "output_type": "error",
     "traceback": [
      "\u001b[0;31m---------------------------------------------------------------------------\u001b[0m",
      "\u001b[0;31mOSError\u001b[0m                                   Traceback (most recent call last)",
      "Cell \u001b[0;32mIn[26], line 5\u001b[0m\n\u001b[1;32m      2\u001b[0m \u001b[38;5;28;01mfrom\u001b[39;00m \u001b[38;5;21;01menformer_pytorch\u001b[39;00m \u001b[38;5;28;01mimport\u001b[39;00m Enformer\n\u001b[1;32m      3\u001b[0m \u001b[38;5;28;01mfrom\u001b[39;00m \u001b[38;5;21;01menformer_pytorch\u001b[39;00m\u001b[38;5;21;01m.\u001b[39;00m\u001b[38;5;21;01mfinetune\u001b[39;00m \u001b[38;5;28;01mimport\u001b[39;00m HeadAdapterWrapper\n\u001b[0;32m----> 5\u001b[0m enformer \u001b[38;5;241m=\u001b[39m \u001b[43mEnformer\u001b[49m\u001b[38;5;241;43m.\u001b[39;49m\u001b[43mfrom_pretrained\u001b[49m\u001b[43m(\u001b[49m\u001b[38;5;124;43m'\u001b[39;49m\u001b[38;5;124;43mEleutherAI/enformer-official-rough\u001b[39;49m\u001b[38;5;124;43m'\u001b[39;49m\u001b[43m)\u001b[49m\n\u001b[1;32m      7\u001b[0m model \u001b[38;5;241m=\u001b[39m HeadAdapterWrapper(\n\u001b[1;32m      8\u001b[0m     enformer \u001b[38;5;241m=\u001b[39m enformer,\n\u001b[1;32m      9\u001b[0m     num_tracks \u001b[38;5;241m=\u001b[39m \u001b[38;5;241m128\u001b[39m,\n\u001b[1;32m     10\u001b[0m     post_transformer_embed \u001b[38;5;241m=\u001b[39m \u001b[38;5;28;01mFalse\u001b[39;00m   \u001b[38;5;66;03m# by default, embeddings are taken from after the final pointwise block w/ conv -> gelu - but if you'd like the embeddings right after the transformer block with a learned layernorm, set this to True\u001b[39;00m\n\u001b[1;32m     11\u001b[0m )\u001b[38;5;241m.\u001b[39mcuda()\n\u001b[1;32m     13\u001b[0m target \u001b[38;5;241m=\u001b[39m torch\u001b[38;5;241m.\u001b[39mrandn(\u001b[38;5;241m1\u001b[39m, \u001b[38;5;241m200\u001b[39m, \u001b[38;5;241m128\u001b[39m)\u001b[38;5;241m.\u001b[39mcuda()  \u001b[38;5;66;03m# 128 tracks\u001b[39;00m\n",
      "File \u001b[0;32m/home/groups/cgawad/conda_for_pf_notebook/miniconda3_for_pf/envs/pf/lib/python3.10/site-packages/transformers/modeling_utils.py:2367\u001b[0m, in \u001b[0;36mPreTrainedModel.from_pretrained\u001b[0;34m(cls, pretrained_model_name_or_path, *model_args, **kwargs)\u001b[0m\n\u001b[1;32m   2352\u001b[0m \u001b[38;5;28;01mtry\u001b[39;00m:\n\u001b[1;32m   2353\u001b[0m     \u001b[38;5;66;03m# Load from URL or cache if already cached\u001b[39;00m\n\u001b[1;32m   2354\u001b[0m     cached_file_kwargs \u001b[38;5;241m=\u001b[39m {\n\u001b[1;32m   2355\u001b[0m         \u001b[38;5;124m\"\u001b[39m\u001b[38;5;124mcache_dir\u001b[39m\u001b[38;5;124m\"\u001b[39m: cache_dir,\n\u001b[1;32m   2356\u001b[0m         \u001b[38;5;124m\"\u001b[39m\u001b[38;5;124mforce_download\u001b[39m\u001b[38;5;124m\"\u001b[39m: force_download,\n\u001b[0;32m   (...)\u001b[0m\n\u001b[1;32m   2365\u001b[0m         \u001b[38;5;124m\"\u001b[39m\u001b[38;5;124m_commit_hash\u001b[39m\u001b[38;5;124m\"\u001b[39m: commit_hash,\n\u001b[1;32m   2366\u001b[0m     }\n\u001b[0;32m-> 2367\u001b[0m     resolved_archive_file \u001b[38;5;241m=\u001b[39m \u001b[43mcached_file\u001b[49m\u001b[43m(\u001b[49m\u001b[43mpretrained_model_name_or_path\u001b[49m\u001b[43m,\u001b[49m\u001b[43m \u001b[49m\u001b[43mfilename\u001b[49m\u001b[43m,\u001b[49m\u001b[43m \u001b[49m\u001b[38;5;241;43m*\u001b[39;49m\u001b[38;5;241;43m*\u001b[39;49m\u001b[43mcached_file_kwargs\u001b[49m\u001b[43m)\u001b[49m\n\u001b[1;32m   2369\u001b[0m     \u001b[38;5;66;03m# Since we set _raise_exceptions_for_missing_entries=False, we don't get an exception but a None\u001b[39;00m\n\u001b[1;32m   2370\u001b[0m     \u001b[38;5;66;03m# result when internet is up, the repo and revision exist, but the file does not.\u001b[39;00m\n\u001b[1;32m   2371\u001b[0m     \u001b[38;5;28;01mif\u001b[39;00m resolved_archive_file \u001b[38;5;129;01mis\u001b[39;00m \u001b[38;5;28;01mNone\u001b[39;00m \u001b[38;5;129;01mand\u001b[39;00m filename \u001b[38;5;241m==\u001b[39m _add_variant(SAFE_WEIGHTS_NAME, variant):\n\u001b[1;32m   2372\u001b[0m         \u001b[38;5;66;03m# Maybe the checkpoint is sharded, we try to grab the index name in this case.\u001b[39;00m\n",
      "File \u001b[0;32m/home/groups/cgawad/conda_for_pf_notebook/miniconda3_for_pf/envs/pf/lib/python3.10/site-packages/transformers/utils/hub.py:409\u001b[0m, in \u001b[0;36mcached_file\u001b[0;34m(path_or_repo_id, filename, cache_dir, force_download, resume_download, proxies, use_auth_token, revision, local_files_only, subfolder, user_agent, _raise_exceptions_for_missing_entries, _raise_exceptions_for_connection_errors, _commit_hash)\u001b[0m\n\u001b[1;32m    406\u001b[0m user_agent \u001b[38;5;241m=\u001b[39m http_user_agent(user_agent)\n\u001b[1;32m    407\u001b[0m \u001b[38;5;28;01mtry\u001b[39;00m:\n\u001b[1;32m    408\u001b[0m     \u001b[38;5;66;03m# Load from URL or cache if already cached\u001b[39;00m\n\u001b[0;32m--> 409\u001b[0m     resolved_file \u001b[38;5;241m=\u001b[39m \u001b[43mhf_hub_download\u001b[49m\u001b[43m(\u001b[49m\n\u001b[1;32m    410\u001b[0m \u001b[43m        \u001b[49m\u001b[43mpath_or_repo_id\u001b[49m\u001b[43m,\u001b[49m\n\u001b[1;32m    411\u001b[0m \u001b[43m        \u001b[49m\u001b[43mfilename\u001b[49m\u001b[43m,\u001b[49m\n\u001b[1;32m    412\u001b[0m \u001b[43m        \u001b[49m\u001b[43msubfolder\u001b[49m\u001b[38;5;241;43m=\u001b[39;49m\u001b[38;5;28;43;01mNone\u001b[39;49;00m\u001b[43m \u001b[49m\u001b[38;5;28;43;01mif\u001b[39;49;00m\u001b[43m \u001b[49m\u001b[38;5;28;43mlen\u001b[39;49m\u001b[43m(\u001b[49m\u001b[43msubfolder\u001b[49m\u001b[43m)\u001b[49m\u001b[43m \u001b[49m\u001b[38;5;241;43m==\u001b[39;49m\u001b[43m \u001b[49m\u001b[38;5;241;43m0\u001b[39;49m\u001b[43m \u001b[49m\u001b[38;5;28;43;01melse\u001b[39;49;00m\u001b[43m \u001b[49m\u001b[43msubfolder\u001b[49m\u001b[43m,\u001b[49m\n\u001b[1;32m    413\u001b[0m \u001b[43m        \u001b[49m\u001b[43mrevision\u001b[49m\u001b[38;5;241;43m=\u001b[39;49m\u001b[43mrevision\u001b[49m\u001b[43m,\u001b[49m\n\u001b[1;32m    414\u001b[0m \u001b[43m        \u001b[49m\u001b[43mcache_dir\u001b[49m\u001b[38;5;241;43m=\u001b[39;49m\u001b[43mcache_dir\u001b[49m\u001b[43m,\u001b[49m\n\u001b[1;32m    415\u001b[0m \u001b[43m        \u001b[49m\u001b[43muser_agent\u001b[49m\u001b[38;5;241;43m=\u001b[39;49m\u001b[43muser_agent\u001b[49m\u001b[43m,\u001b[49m\n\u001b[1;32m    416\u001b[0m \u001b[43m        \u001b[49m\u001b[43mforce_download\u001b[49m\u001b[38;5;241;43m=\u001b[39;49m\u001b[43mforce_download\u001b[49m\u001b[43m,\u001b[49m\n\u001b[1;32m    417\u001b[0m \u001b[43m        \u001b[49m\u001b[43mproxies\u001b[49m\u001b[38;5;241;43m=\u001b[39;49m\u001b[43mproxies\u001b[49m\u001b[43m,\u001b[49m\n\u001b[1;32m    418\u001b[0m \u001b[43m        \u001b[49m\u001b[43mresume_download\u001b[49m\u001b[38;5;241;43m=\u001b[39;49m\u001b[43mresume_download\u001b[49m\u001b[43m,\u001b[49m\n\u001b[1;32m    419\u001b[0m \u001b[43m        \u001b[49m\u001b[43muse_auth_token\u001b[49m\u001b[38;5;241;43m=\u001b[39;49m\u001b[43muse_auth_token\u001b[49m\u001b[43m,\u001b[49m\n\u001b[1;32m    420\u001b[0m \u001b[43m        \u001b[49m\u001b[43mlocal_files_only\u001b[49m\u001b[38;5;241;43m=\u001b[39;49m\u001b[43mlocal_files_only\u001b[49m\u001b[43m,\u001b[49m\n\u001b[1;32m    421\u001b[0m \u001b[43m    \u001b[49m\u001b[43m)\u001b[49m\n\u001b[1;32m    423\u001b[0m \u001b[38;5;28;01mexcept\u001b[39;00m RepositoryNotFoundError:\n\u001b[1;32m    424\u001b[0m     \u001b[38;5;28;01mraise\u001b[39;00m \u001b[38;5;167;01mEnvironmentError\u001b[39;00m(\n\u001b[1;32m    425\u001b[0m         \u001b[38;5;124mf\u001b[39m\u001b[38;5;124m\"\u001b[39m\u001b[38;5;132;01m{\u001b[39;00mpath_or_repo_id\u001b[38;5;132;01m}\u001b[39;00m\u001b[38;5;124m is not a local folder and is not a valid model identifier \u001b[39m\u001b[38;5;124m\"\u001b[39m\n\u001b[1;32m    426\u001b[0m         \u001b[38;5;124m\"\u001b[39m\u001b[38;5;124mlisted on \u001b[39m\u001b[38;5;124m'\u001b[39m\u001b[38;5;124mhttps://huggingface.co/models\u001b[39m\u001b[38;5;124m'\u001b[39m\u001b[38;5;130;01m\\n\u001b[39;00m\u001b[38;5;124mIf this is a private repository, make sure to \u001b[39m\u001b[38;5;124m\"\u001b[39m\n\u001b[1;32m    427\u001b[0m         \u001b[38;5;124m\"\u001b[39m\u001b[38;5;124mpass a token having permission to this repo with `use_auth_token` or log in with \u001b[39m\u001b[38;5;124m\"\u001b[39m\n\u001b[1;32m    428\u001b[0m         \u001b[38;5;124m\"\u001b[39m\u001b[38;5;124m`huggingface-cli login` and pass `use_auth_token=True`.\u001b[39m\u001b[38;5;124m\"\u001b[39m\n\u001b[1;32m    429\u001b[0m     )\n",
      "File \u001b[0;32m/home/groups/cgawad/conda_for_pf_notebook/miniconda3_for_pf/envs/pf/lib/python3.10/site-packages/huggingface_hub/utils/_validators.py:120\u001b[0m, in \u001b[0;36mvalidate_hf_hub_args.<locals>._inner_fn\u001b[0;34m(*args, **kwargs)\u001b[0m\n\u001b[1;32m    117\u001b[0m \u001b[38;5;28;01mif\u001b[39;00m check_use_auth_token:\n\u001b[1;32m    118\u001b[0m     kwargs \u001b[38;5;241m=\u001b[39m smoothly_deprecate_use_auth_token(fn_name\u001b[38;5;241m=\u001b[39mfn\u001b[38;5;241m.\u001b[39m\u001b[38;5;18m__name__\u001b[39m, has_token\u001b[38;5;241m=\u001b[39mhas_token, kwargs\u001b[38;5;241m=\u001b[39mkwargs)\n\u001b[0;32m--> 120\u001b[0m \u001b[38;5;28;01mreturn\u001b[39;00m \u001b[43mfn\u001b[49m\u001b[43m(\u001b[49m\u001b[38;5;241;43m*\u001b[39;49m\u001b[43margs\u001b[49m\u001b[43m,\u001b[49m\u001b[43m \u001b[49m\u001b[38;5;241;43m*\u001b[39;49m\u001b[38;5;241;43m*\u001b[39;49m\u001b[43mkwargs\u001b[49m\u001b[43m)\u001b[49m\n",
      "File \u001b[0;32m/home/groups/cgawad/conda_for_pf_notebook/miniconda3_for_pf/envs/pf/lib/python3.10/site-packages/huggingface_hub/file_download.py:1323\u001b[0m, in \u001b[0;36mhf_hub_download\u001b[0;34m(repo_id, filename, subfolder, repo_type, revision, library_name, library_version, cache_dir, local_dir, local_dir_use_symlinks, user_agent, force_download, force_filename, proxies, etag_timeout, resume_download, token, local_files_only, legacy_cache_layout)\u001b[0m\n\u001b[1;32m   1319\u001b[0m     resume_size \u001b[38;5;241m=\u001b[39m \u001b[38;5;241m0\u001b[39m\n\u001b[1;32m   1321\u001b[0m \u001b[38;5;66;03m# Download to temporary file, then copy to cache dir once finished.\u001b[39;00m\n\u001b[1;32m   1322\u001b[0m \u001b[38;5;66;03m# Otherwise you get corrupt cache entries if the download gets interrupted.\u001b[39;00m\n\u001b[0;32m-> 1323\u001b[0m \u001b[38;5;28;01mwith\u001b[39;00m temp_file_manager() \u001b[38;5;28;01mas\u001b[39;00m temp_file:\n\u001b[1;32m   1324\u001b[0m     logger\u001b[38;5;241m.\u001b[39minfo(\u001b[38;5;124m\"\u001b[39m\u001b[38;5;124mdownloading \u001b[39m\u001b[38;5;132;01m%s\u001b[39;00m\u001b[38;5;124m to \u001b[39m\u001b[38;5;132;01m%s\u001b[39;00m\u001b[38;5;124m\"\u001b[39m, url, temp_file\u001b[38;5;241m.\u001b[39mname)\n\u001b[1;32m   1326\u001b[0m     http_get(\n\u001b[1;32m   1327\u001b[0m         url_to_download,\n\u001b[1;32m   1328\u001b[0m         temp_file,\n\u001b[0;32m   (...)\u001b[0m\n\u001b[1;32m   1331\u001b[0m         headers\u001b[38;5;241m=\u001b[39mheaders,\n\u001b[1;32m   1332\u001b[0m     )\n",
      "File \u001b[0;32m/home/groups/cgawad/conda_for_pf_notebook/miniconda3_for_pf/envs/pf/lib/python3.10/tempfile.py:501\u001b[0m, in \u001b[0;36m_TemporaryFileWrapper.__exit__\u001b[0;34m(self, exc, value, tb)\u001b[0m\n\u001b[1;32m    500\u001b[0m \u001b[38;5;28;01mdef\u001b[39;00m \u001b[38;5;21m__exit__\u001b[39m(\u001b[38;5;28mself\u001b[39m, exc, value, tb):\n\u001b[0;32m--> 501\u001b[0m     result \u001b[38;5;241m=\u001b[39m \u001b[38;5;28;43mself\u001b[39;49m\u001b[38;5;241;43m.\u001b[39;49m\u001b[43mfile\u001b[49m\u001b[38;5;241;43m.\u001b[39;49m\u001b[38;5;21;43m__exit__\u001b[39;49m\u001b[43m(\u001b[49m\u001b[43mexc\u001b[49m\u001b[43m,\u001b[49m\u001b[43m \u001b[49m\u001b[43mvalue\u001b[49m\u001b[43m,\u001b[49m\u001b[43m \u001b[49m\u001b[43mtb\u001b[49m\u001b[43m)\u001b[49m\n\u001b[1;32m    502\u001b[0m     \u001b[38;5;28mself\u001b[39m\u001b[38;5;241m.\u001b[39mclose()\n\u001b[1;32m    503\u001b[0m     \u001b[38;5;28;01mreturn\u001b[39;00m result\n",
      "\u001b[0;31mOSError\u001b[0m: [Errno 28] No space left on device"
     ]
    }
   ],
   "source": [
    "import torch\n",
    "from enformer_pytorch import Enformer\n",
    "from enformer_pytorch.finetune import HeadAdapterWrapper\n",
    "\n",
    "enformer = Enformer.from_pretrained('EleutherAI/enformer-official-rough')\n",
    "\n",
    "model = HeadAdapterWrapper(\n",
    "    enformer = enformer,\n",
    "    num_tracks = 128,\n",
    "    post_transformer_embed = False   # by default, embeddings are taken from after the final pointwise block w/ conv -> gelu - but if you'd like the embeddings right after the transformer block with a learned layernorm, set this to True\n",
    ").cuda()\n",
    "\n",
    "target = torch.randn(1, 200, 128).cuda()  # 128 tracks\n",
    "\n",
    "loss = model(seq, target = target)\n",
    "loss.backward()"
   ]
  },
  {
   "cell_type": "code",
   "execution_count": 20,
   "id": "2cf4d915-3267-40f7-8b23-4cb1c49b82d9",
   "metadata": {},
   "outputs": [],
   "source": [
    "pred = model(seq, head = 'human') # (3000, 3000)"
   ]
  },
  {
   "cell_type": "code",
   "execution_count": 21,
   "id": "a2ec0ffa-c886-4a84-ba4c-e05c65a60fd9",
   "metadata": {},
   "outputs": [
    {
     "data": {
      "text/plain": [
       "tensor([[[0.7276, 0.7898, 0.7651,  ..., 0.8316, 0.6573, 0.5948]],\n",
       "\n",
       "        [[0.7207, 0.7824, 0.8117,  ..., 0.7090, 0.5889, 0.5795]],\n",
       "\n",
       "        [[0.5686, 0.8286, 0.8646,  ..., 0.7037, 0.6471, 0.6555]],\n",
       "\n",
       "        ...,\n",
       "\n",
       "        [[0.7175, 0.7805, 0.7743,  ..., 0.7038, 0.8123, 0.5317]],\n",
       "\n",
       "        [[0.6933, 0.6910, 0.7489,  ..., 0.7125, 0.6352, 0.6702]],\n",
       "\n",
       "        [[0.6963, 0.7716, 0.8335,  ..., 0.6973, 0.6662, 0.6498]]],\n",
       "       grad_fn=<SoftplusBackward0>)"
      ]
     },
     "execution_count": 21,
     "metadata": {},
     "output_type": "execute_result"
    }
   ],
   "source": [
    "pred"
   ]
  },
  {
   "cell_type": "markdown",
   "id": "1ffcc18d-6460-4a88-811b-904883888cdb",
   "metadata": {
    "jp-MarkdownHeadingCollapsed": true,
    "tags": []
   },
   "source": [
    "## Old stuff"
   ]
  },
  {
   "cell_type": "code",
   "execution_count": null,
   "id": "b8d03666-0dca-4570-bffa-f849dba480d8",
   "metadata": {},
   "outputs": [
    {
     "name": "stdout",
     "output_type": "stream",
     "text": [
      "mv: cannot stat ‘/scratch/users/sschulz/pta_on_normal/fastas/*.fai’: No such file or directory\n",
      "Now collecting dataset for: /scratch/users/sschulz/pta_on_normal/fastas/CART-MRD-BALL-PTA-NEXTERA-WGS-CCT5007Pt04-A9_S57.realigned_deduped_sorted.fasta\n",
      "Now collecting dataset for: /scratch/users/sschulz/pta_on_normal/fastas/CART-MRD-BALL-PTA-NEXTERA-WGS-CCT5007Pt04-B10_S65.realigned_deduped_sorted.fasta\n"
     ]
    }
   ],
   "source": [
    "dataset_list = []\n",
    "fai_dir=fasta_dir + '/fais'\n",
    "!mkdir -p {fai_dir}\n",
    "for fasta_name in os.listdir(fasta_dir):\n",
    "    !mv {fasta_dir}/*.fai {fai_dir}\n",
    "    fasta_path=fasta_dir + '/' + fasta_name\n",
    "    if not os.path.splitext(fasta_path)[1] == 'fai':\n",
    "        print('Now collecting dataset for: ' + fasta_path)\n",
    "        dataset_list.append(makeEnformerDataset(fasta_path, hg38_bed_path))"
   ]
  },
  {
   "cell_type": "code",
   "execution_count": 8,
   "id": "2b1e4868-9531-45ec-abdb-2ceaf3e84366",
   "metadata": {},
   "outputs": [],
   "source": [
    "def combineDatasets(dataset_list):\n",
    "    '''\n",
    "        uses hf datasets to concatenate a list of datasets\n",
    "    '''\n",
    "    return concatenate_datasets(dataset_list)"
   ]
  },
  {
   "cell_type": "code",
   "execution_count": null,
   "id": "65306cf8-4d3b-4a27-b442-0858ea32c4ef",
   "metadata": {},
   "outputs": [],
   "source": [
    "combined_dataset = combineDatasets(dataset_list)"
   ]
  },
  {
   "cell_type": "code",
   "execution_count": null,
   "id": "b88301ea-7268-4442-b20d-0ab2cb59e9d7",
   "metadata": {},
   "outputs": [],
   "source": [
    "combined_dataset.save_to_disk(bam_dir + '/' + dataset_name)"
   ]
  },
  {
   "cell_type": "code",
   "execution_count": null,
   "id": "5524f3d4-6d96-4d7f-a828-94c98903ee77",
   "metadata": {},
   "outputs": [],
   "source": [
    "model = trainEnformerPTA(combined_datset)"
   ]
  },
  {
   "cell_type": "code",
   "execution_count": null,
   "id": "f02e1357-1b47-4853-b017-adedf9bf2ce9",
   "metadata": {},
   "outputs": [],
   "source": [
    "seq = ### enter a sequence to test\n",
    "pred = model(seq, head = 'human') # (896, 5313) ###<- what does human mean here?"
   ]
  }
 ],
 "metadata": {
  "kernelspec": {
   "display_name": "Python 3 (ipykernel)",
   "language": "python",
   "name": "python3"
  },
  "language_info": {
   "codemirror_mode": {
    "name": "ipython",
    "version": 3
   },
   "file_extension": ".py",
   "mimetype": "text/x-python",
   "name": "python",
   "nbconvert_exporter": "python",
   "pygments_lexer": "ipython3",
   "version": "3.10.8"
  }
 },
 "nbformat": 4,
 "nbformat_minor": 5
}
