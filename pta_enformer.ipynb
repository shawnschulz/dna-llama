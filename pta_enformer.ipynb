{
 "cells": [
  {
   "cell_type": "markdown",
   "id": "4f5e25df-aca9-41c1-b9f4-e592b005f460",
   "metadata": {
    "jp-MarkdownHeadingCollapsed": true,
    "tags": []
   },
   "source": [
    "## Pip installs"
   ]
  },
  {
   "cell_type": "code",
   "execution_count": null,
   "id": "663fa7f8-5f83-40c3-9792-882c40b9312a",
   "metadata": {
    "tags": []
   },
   "outputs": [],
   "source": [
    "!pip install torch"
   ]
  },
  {
   "cell_type": "code",
   "execution_count": null,
   "id": "a9bc3f67-cc87-4ac8-8ed1-d6a2ac1f10a4",
   "metadata": {
    "tags": []
   },
   "outputs": [],
   "source": [
    "!pip install transformers"
   ]
  },
  {
   "cell_type": "code",
   "execution_count": null,
   "id": "32b69fb5-19ea-4cab-96b5-22fb99f04f30",
   "metadata": {
    "tags": []
   },
   "outputs": [],
   "source": [
    "!pip install datasets"
   ]
  },
  {
   "cell_type": "code",
   "execution_count": null,
   "id": "e5c502e4-3bbf-4106-ba39-08b36abb817f",
   "metadata": {},
   "outputs": [],
   "source": [
    "!pip install pysam"
   ]
  },
  {
   "cell_type": "code",
   "execution_count": null,
   "id": "7cc08e69-7d8d-4368-805a-3d07968804f1",
   "metadata": {},
   "outputs": [],
   "source": [
    "!pip install HTSeq"
   ]
  },
  {
   "cell_type": "code",
   "execution_count": 5,
   "id": "0bc79d57-331b-4894-b306-7ea092a926f2",
   "metadata": {},
   "outputs": [],
   "source": [
    "!pip install enformer-pytorch>=0.5"
   ]
  },
  {
   "cell_type": "code",
   "execution_count": 3,
   "id": "dba1ede2-ccd6-433d-aed3-b7df13be183c",
   "metadata": {},
   "outputs": [
    {
     "name": "stdout",
     "output_type": "stream",
     "text": [
      "Collecting polars\n",
      "  Downloading polars-0.16.18-cp37-abi3-manylinux_2_17_x86_64.manylinux2014_x86_64.whl (16.4 MB)\n",
      "\u001b[2K     \u001b[90m━━━━━━━━━━━━━━━━━━━━━━━━━━━━━━━━━━━━━━━━\u001b[0m \u001b[32m16.4/16.4 MB\u001b[0m \u001b[31m30.8 MB/s\u001b[0m eta \u001b[36m0:00:00\u001b[0m00:01\u001b[0m00:01\u001b[0m\n",
      "\u001b[?25hRequirement already satisfied: typing_extensions>=4.0.1 in /home/groups/cgawad/conda_for_pf_notebook/miniconda3_for_pf/envs/pf/lib/python3.10/site-packages (from polars) (4.4.0)\n",
      "Installing collected packages: polars\n",
      "Successfully installed polars-0.16.18\n"
     ]
    }
   ],
   "source": [
    "!pip install polars"
   ]
  },
  {
   "cell_type": "markdown",
   "id": "7c02d7ef-b040-4419-b0d0-c4a8178e6b84",
   "metadata": {
    "tags": []
   },
   "source": [
    "## Loading DNA sequence data from BAMs to create dataset for fine tuning enformer"
   ]
  },
  {
   "cell_type": "code",
   "execution_count": 2,
   "id": "a1079afb-7b2c-4833-bc76-621e0f397109",
   "metadata": {},
   "outputs": [
    {
     "name": "stderr",
     "output_type": "stream",
     "text": [
      "/home/groups/cgawad/conda_for_pf_notebook/miniconda3_for_pf/envs/pf/lib/python3.10/site-packages/tqdm/auto.py:22: TqdmWarning: IProgress not found. Please update jupyter and ipywidgets. See https://ipywidgets.readthedocs.io/en/stable/user_install.html\n",
      "  from .autonotebook import tqdm as notebook_tqdm\n"
     ]
    }
   ],
   "source": [
    "import torch\n",
    "import polars as pl\n",
    "from enformer_pytorch import Enformer, GenomeIntervalDataset\n",
    "from datasets import concatenate_datasets, load_dataset\n",
    "import os"
   ]
  },
  {
   "cell_type": "code",
   "execution_count": 3,
   "id": "ec5a7935-f1d4-402e-89d4-583fcba9ed3a",
   "metadata": {},
   "outputs": [],
   "source": [
    "### define variables\n",
    "hg38_bed_path = \"/scratch/users/sschulz/pta_on_normal/chr10.bed\"\n",
    "bam_dir= \"/scratch/users/sschulz/pta_on_normal\"\n",
    "fasta_dir = bam_dir + '/fastas'\n",
    "dataset_name='chr10_test_dataset.hf'\n",
    "preprocess_bam=False"
   ]
  },
  {
   "cell_type": "code",
   "execution_count": 4,
   "id": "366bf928-a137-44bb-b33e-39616a80d8d2",
   "metadata": {},
   "outputs": [],
   "source": [
    "def preProcessBam(bam_dir, fasta_dir):\n",
    "    '''\n",
    "        take directory of bam files and make a subdirecotry fasta_dir \n",
    "        containing fasta files\n",
    "    '''\n",
    "\n",
    "    !sh bam2fasta.sh {bam_dir} {fasta_dir}"
   ]
  },
  {
   "cell_type": "code",
   "execution_count": 5,
   "id": "bbddb491-ee04-4717-bceb-edd694f04f89",
   "metadata": {},
   "outputs": [],
   "source": [
    "def makeEnformerDataset(fasta_path, bed_path):\n",
    "    '''\n",
    "        makes enformer dataset for genome intervals in bed file at bed_path, returns the dataset\n",
    "    '''\n",
    "    #filter_train = lambda df: df.filter(pl.col('column_4') == 'train')\n",
    "    ds = GenomeIntervalDataset(\n",
    "        bed_file = bed_path, ##<- this can just be the whole hg38.bed for all chromosomes\n",
    "        fasta_file = fasta_path,  ## path to fasta file\n",
    "        #filter_df_fn = filter_train,                        # filter dataframe function\n",
    "        return_seq_indices = False,                          # return nucleotide indices (ACGTN) or one hot encodings\n",
    "        shift_augs = (-2, 2),                               # random shift augmentations from -2 to +2 basepairs\n",
    "        rc_aug = True,                                      # use reverse complement augmentation with 50% probability\n",
    "        context_length = 196_608,\n",
    "        return_augs = True                                  # return the augmentation meta data\n",
    "        )\n",
    "    return ds"
   ]
  },
  {
   "cell_type": "code",
   "execution_count": 6,
   "id": "2b1e4868-9531-45ec-abdb-2ceaf3e84366",
   "metadata": {},
   "outputs": [],
   "source": [
    "def combineDatasets(dataset_list):\n",
    "    '''\n",
    "        uses hf datasets to concatenate a list of datasets\n",
    "    '''\n",
    "    return concatenate_datasets(dataset_list)"
   ]
  },
  {
   "cell_type": "code",
   "execution_count": 7,
   "id": "a767409c-b1a4-4a25-9375-476c72ac0899",
   "metadata": {},
   "outputs": [],
   "source": [
    "def trainEnformerPTA(dataset):\n",
    "    '''\n",
    "        should train the enformer model\n",
    "    '''\n",
    "    \n",
    "    #filter_train = lambda df: df.filter(pl.col('column_4') == 'train')\n",
    "\n",
    "    model = HeadAdapterWrapper(\n",
    "                enformer = dataset,\n",
    "                num_tracks = 128,\n",
    "                post_transformer_embed = False   # by default, embeddings are taken from after the final pointwise block w/ conv -> gelu - but if you'd like the embeddings right after the transformer block with a learned layernorm, set this to True\n",
    "            ).cuda()\n",
    "\n",
    "    return model"
   ]
  },
  {
   "cell_type": "code",
   "execution_count": 19,
   "id": "ef8293b8-faf6-4277-9cba-c42c52693b22",
   "metadata": {
    "collapsed": true,
    "jupyter": {
     "outputs_hidden": true
    },
    "tags": []
   },
   "outputs": [
    {
     "name": "stdout",
     "output_type": "stream",
     "text": [
      "-rw-r--r-- 1 sschulz cgawad 0 Apr  4 14:18 /scratch/users/sschulz/pta_on_normal/fastas/CART-MRD-BALL-PTA-NEXTERA-WGS-CCT5007Pt04-B8_S51.deduped_sorted.fasta\n",
      "/scratch/users/sschulz/pta_on_normal/fastas/CART-MRD-BALL-PTA-NEXTERA-WGS-CCT5007Pt04-B8_S51.deduped_sorted.fasta\n",
      "bam2fasta.sh: line 21: -s: command not found\n",
      "\n",
      "Submitted batch job 14875317\n",
      "-rw-r--r-- 1 sschulz cgawad 0 Apr  4 14:18 /scratch/users/sschulz/pta_on_normal/fastas/CART-MRD-BALL-PTA-NEXTERA-WGS-CCT5007Pt04-B8_S51.realigned_deduped_sorted.fasta\n",
      "/scratch/users/sschulz/pta_on_normal/fastas/CART-MRD-BALL-PTA-NEXTERA-WGS-CCT5007Pt04-B8_S51.realigned_deduped_sorted.fasta\n",
      "bam2fasta.sh: line 21: -s: command not found\n",
      "\n",
      "Submitted batch job 14875318\n",
      "-rw-r--r-- 1 sschulz cgawad 0 Apr  4 14:18 /scratch/users/sschulz/pta_on_normal/fastas/CART-MRD-BALL-PTA-NEXTERA-WGS-CCT5007Pt04-B8_S51.recalibrated_realigned_deduped_sorted.fasta\n",
      "/scratch/users/sschulz/pta_on_normal/fastas/CART-MRD-BALL-PTA-NEXTERA-WGS-CCT5007Pt04-B8_S51.recalibrated_realigned_deduped_sorted.fasta\n",
      "bam2fasta.sh: line 21: -s: command not found\n",
      "\n",
      "Submitted batch job 14875319\n",
      "-rw-r--r-- 1 sschulz cgawad 0 Apr  4 14:18 /scratch/users/sschulz/pta_on_normal/fastas/CART-MRD-BALL-PTA-NEXTERA-WGS-CCT5007Pt04-B8_S51.sorted.fasta\n",
      "/scratch/users/sschulz/pta_on_normal/fastas/CART-MRD-BALL-PTA-NEXTERA-WGS-CCT5007Pt04-B8_S51.sorted.fasta\n",
      "bam2fasta.sh: line 21: -s: command not found\n",
      "\n",
      "Submitted batch job 14875321\n",
      "-rw-r--r-- 1 sschulz cgawad 0 Apr  4 14:19 /scratch/users/sschulz/pta_on_normal/fastas/CART-MRD-BALL-PTA-NEXTERA-WGS-CCT5007Pt04-C10_S66.realigned_deduped_sorted.fasta\n",
      "/scratch/users/sschulz/pta_on_normal/fastas/CART-MRD-BALL-PTA-NEXTERA-WGS-CCT5007Pt04-C10_S66.realigned_deduped_sorted.fasta\n",
      "bam2fasta.sh: line 21: -s: command not found\n",
      "\n",
      "Submitted batch job 14875322\n",
      "-rw-r--r-- 1 sschulz cgawad 0 Apr  4 14:19 /scratch/users/sschulz/pta_on_normal/fastas/CART-MRD-BALL-PTA-NEXTERA-WGS-CCT5007Pt04-C10_S66.recalibrated_realigned_deduped_sorted.fasta\n",
      "/scratch/users/sschulz/pta_on_normal/fastas/CART-MRD-BALL-PTA-NEXTERA-WGS-CCT5007Pt04-C10_S66.recalibrated_realigned_deduped_sorted.fasta\n",
      "bam2fasta.sh: line 21: -s: command not found\n",
      "\n",
      "Submitted batch job 14875323\n",
      "-rw-r--r-- 1 sschulz cgawad 0 Apr  4 14:19 /scratch/users/sschulz/pta_on_normal/fastas/CART-MRD-BALL-PTA-NEXTERA-WGS-CCT5007Pt04-C11_S73.realigned_deduped_sorted.fasta\n",
      "/scratch/users/sschulz/pta_on_normal/fastas/CART-MRD-BALL-PTA-NEXTERA-WGS-CCT5007Pt04-C11_S73.realigned_deduped_sorted.fasta\n",
      "bam2fasta.sh: line 21: -s: command not found\n",
      "\n",
      "Submitted batch job 14875324\n",
      "-rw-r--r-- 1 sschulz cgawad 0 Apr  4 14:18 /scratch/users/sschulz/pta_on_normal/fastas/CART-MRD-BALL-PTA-NEXTERA-WGS-CCT5007Pt04-C11_S73.recalibrated_realigned_deduped_sorted.fasta\n",
      "/scratch/users/sschulz/pta_on_normal/fastas/CART-MRD-BALL-PTA-NEXTERA-WGS-CCT5007Pt04-C11_S73.recalibrated_realigned_deduped_sorted.fasta\n",
      "bam2fasta.sh: line 21: -s: command not found\n",
      "\n",
      "Submitted batch job 14875325\n",
      "-rw-r--r-- 1 sschulz cgawad 0 Apr  4 14:18 /scratch/users/sschulz/pta_on_normal/fastas/CART-MRD-BALL-PTA-NEXTERA-WGS-CCT5007Pt04-C1_S3.realigned_deduped_sorted.fasta\n",
      "/scratch/users/sschulz/pta_on_normal/fastas/CART-MRD-BALL-PTA-NEXTERA-WGS-CCT5007Pt04-C1_S3.realigned_deduped_sorted.fasta\n",
      "bam2fasta.sh: line 21: -s: command not found\n",
      "\n",
      "Submitted batch job 14875326\n",
      "-rw-r--r-- 1 sschulz cgawad 0 Apr  4 14:18 /scratch/users/sschulz/pta_on_normal/fastas/CART-MRD-BALL-PTA-NEXTERA-WGS-CCT5007Pt04-C1_S3.recalibrated_realigned_deduped_sorted.fasta\n",
      "/scratch/users/sschulz/pta_on_normal/fastas/CART-MRD-BALL-PTA-NEXTERA-WGS-CCT5007Pt04-C1_S3.recalibrated_realigned_deduped_sorted.fasta\n",
      "bam2fasta.sh: line 21: -s: command not found\n",
      "\n",
      "Submitted batch job 14875327\n",
      "-rw-r--r-- 1 sschulz cgawad 0 Apr  4 14:18 /scratch/users/sschulz/pta_on_normal/fastas/CART-MRD-BALL-PTA-NEXTERA-WGS-CCT5007Pt04-C3_S17.realigned_deduped_sorted.fasta\n",
      "/scratch/users/sschulz/pta_on_normal/fastas/CART-MRD-BALL-PTA-NEXTERA-WGS-CCT5007Pt04-C3_S17.realigned_deduped_sorted.fasta\n",
      "bam2fasta.sh: line 21: -s: command not found\n",
      "\n",
      "Submitted batch job 14875328\n",
      "-rw-r--r-- 1 sschulz cgawad 0 Apr  4 14:19 /scratch/users/sschulz/pta_on_normal/fastas/CART-MRD-BALL-PTA-NEXTERA-WGS-CCT5007Pt04-C3_S17.recalibrated_realigned_deduped_sorted.fasta\n",
      "/scratch/users/sschulz/pta_on_normal/fastas/CART-MRD-BALL-PTA-NEXTERA-WGS-CCT5007Pt04-C3_S17.recalibrated_realigned_deduped_sorted.fasta\n",
      "bam2fasta.sh: line 21: -s: command not found\n",
      "\n",
      "Submitted batch job 14875329\n",
      "-rw-r--r-- 1 sschulz cgawad 0 Apr  4 14:19 /scratch/users/sschulz/pta_on_normal/fastas/CART-MRD-BALL-PTA-NEXTERA-WGS-CCT5007Pt04-C5_S32.realigned_deduped_sorted.fasta\n",
      "/scratch/users/sschulz/pta_on_normal/fastas/CART-MRD-BALL-PTA-NEXTERA-WGS-CCT5007Pt04-C5_S32.realigned_deduped_sorted.fasta\n",
      "bam2fasta.sh: line 21: -s: command not found\n",
      "\n",
      "Submitted batch job 14875330\n",
      "-rw-r--r-- 1 sschulz cgawad 0 Apr  4 14:19 /scratch/users/sschulz/pta_on_normal/fastas/CART-MRD-BALL-PTA-NEXTERA-WGS-CCT5007Pt04-C5_S32.recalibrated_realigned_deduped_sorted.fasta\n",
      "/scratch/users/sschulz/pta_on_normal/fastas/CART-MRD-BALL-PTA-NEXTERA-WGS-CCT5007Pt04-C5_S32.recalibrated_realigned_deduped_sorted.fasta\n",
      "bam2fasta.sh: line 21: -s: command not found\n",
      "\n",
      "Submitted batch job 14875331\n",
      "-rw-r--r-- 1 sschulz cgawad 0 Apr  4 14:19 /scratch/users/sschulz/pta_on_normal/fastas/CART-MRD-BALL-PTA-NEXTERA-WGS-CCT5007Pt04-C6_S39.realigned_deduped_sorted.fasta\n",
      "/scratch/users/sschulz/pta_on_normal/fastas/CART-MRD-BALL-PTA-NEXTERA-WGS-CCT5007Pt04-C6_S39.realigned_deduped_sorted.fasta\n",
      "bam2fasta.sh: line 21: -s: command not found\n",
      "\n",
      "Submitted batch job 14875332\n",
      "-rw-r--r-- 1 sschulz cgawad 0 Apr  4 14:19 /scratch/users/sschulz/pta_on_normal/fastas/CART-MRD-BALL-PTA-NEXTERA-WGS-CCT5007Pt04-C6_S39.recalibrated_realigned_deduped_sorted.fasta\n",
      "/scratch/users/sschulz/pta_on_normal/fastas/CART-MRD-BALL-PTA-NEXTERA-WGS-CCT5007Pt04-C6_S39.recalibrated_realigned_deduped_sorted.fasta\n",
      "bam2fasta.sh: line 21: -s: command not found\n",
      "\n",
      "Submitted batch job 14875333\n",
      "-rw-r--r-- 1 sschulz cgawad 0 Apr  4 14:19 /scratch/users/sschulz/pta_on_normal/fastas/CART-MRD-BALL-PTA-NEXTERA-WGS-CCT5007Pt04-C7_S46.realigned_deduped_sorted.fasta\n",
      "/scratch/users/sschulz/pta_on_normal/fastas/CART-MRD-BALL-PTA-NEXTERA-WGS-CCT5007Pt04-C7_S46.realigned_deduped_sorted.fasta\n",
      "bam2fasta.sh: line 21: -s: command not found\n",
      "\n",
      "Submitted batch job 14875334\n",
      "-rw-r--r-- 1 sschulz cgawad 0 Apr  4 14:19 /scratch/users/sschulz/pta_on_normal/fastas/CART-MRD-BALL-PTA-NEXTERA-WGS-CCT5007Pt04-C7_S46.recalibrated_realigned_deduped_sorted.fasta\n",
      "/scratch/users/sschulz/pta_on_normal/fastas/CART-MRD-BALL-PTA-NEXTERA-WGS-CCT5007Pt04-C7_S46.recalibrated_realigned_deduped_sorted.fasta\n",
      "bam2fasta.sh: line 21: -s: command not found\n",
      "\n",
      "Submitted batch job 14875335\n",
      "-rw-r--r-- 1 sschulz cgawad 0 Apr  4 14:19 /scratch/users/sschulz/pta_on_normal/fastas/CART-MRD-BALL-PTA-NEXTERA-WGS-CCT5007Pt04-C8_S52.realigned_deduped_sorted.fasta\n",
      "/scratch/users/sschulz/pta_on_normal/fastas/CART-MRD-BALL-PTA-NEXTERA-WGS-CCT5007Pt04-C8_S52.realigned_deduped_sorted.fasta\n",
      "bam2fasta.sh: line 21: -s: command not found\n",
      "\n",
      "Submitted batch job 14875337\n",
      "-rw-r--r-- 1 sschulz cgawad 0 Apr  4 14:19 /scratch/users/sschulz/pta_on_normal/fastas/CART-MRD-BALL-PTA-NEXTERA-WGS-CCT5007Pt04-C8_S52.recalibrated_realigned_deduped_sorted.fasta\n",
      "/scratch/users/sschulz/pta_on_normal/fastas/CART-MRD-BALL-PTA-NEXTERA-WGS-CCT5007Pt04-C8_S52.recalibrated_realigned_deduped_sorted.fasta\n",
      "bam2fasta.sh: line 21: -s: command not found\n",
      "\n",
      "Submitted batch job 14875338\n",
      "-rw-r--r-- 1 sschulz cgawad 0 Apr  4 14:19 /scratch/users/sschulz/pta_on_normal/fastas/CART-MRD-BALL-PTA-NEXTERA-WGS-CCT5007Pt04-C9_S58.realigned_deduped_sorted.fasta\n",
      "/scratch/users/sschulz/pta_on_normal/fastas/CART-MRD-BALL-PTA-NEXTERA-WGS-CCT5007Pt04-C9_S58.realigned_deduped_sorted.fasta\n",
      "bam2fasta.sh: line 21: -s: command not found\n",
      "\n",
      "Submitted batch job 14875339\n",
      "-rw-r--r-- 1 sschulz cgawad 0 Apr  4 14:19 /scratch/users/sschulz/pta_on_normal/fastas/CART-MRD-BALL-PTA-NEXTERA-WGS-CCT5007Pt04-C9_S58.recalibrated_realigned_deduped_sorted.fasta\n",
      "/scratch/users/sschulz/pta_on_normal/fastas/CART-MRD-BALL-PTA-NEXTERA-WGS-CCT5007Pt04-C9_S58.recalibrated_realigned_deduped_sorted.fasta\n",
      "bam2fasta.sh: line 21: -s: command not found\n",
      "\n",
      "Submitted batch job 14875340\n",
      "-rw-r--r-- 1 sschulz cgawad 0 Apr  4 14:19 /scratch/users/sschulz/pta_on_normal/fastas/CART-MRD-BALL-PTA-NEXTERA-WGS-CCT5007Pt04-D10_S67.realigned_deduped_sorted.fasta\n",
      "/scratch/users/sschulz/pta_on_normal/fastas/CART-MRD-BALL-PTA-NEXTERA-WGS-CCT5007Pt04-D10_S67.realigned_deduped_sorted.fasta\n",
      "bam2fasta.sh: line 21: -s: command not found\n",
      "\n",
      "Submitted batch job 14875341\n",
      "-rw-r--r-- 1 sschulz cgawad 0 Apr  4 14:19 /scratch/users/sschulz/pta_on_normal/fastas/CART-MRD-BALL-PTA-NEXTERA-WGS-CCT5007Pt04-D10_S67.recalibrated_realigned_deduped_sorted.fasta\n",
      "/scratch/users/sschulz/pta_on_normal/fastas/CART-MRD-BALL-PTA-NEXTERA-WGS-CCT5007Pt04-D10_S67.recalibrated_realigned_deduped_sorted.fasta\n",
      "bam2fasta.sh: line 21: -s: command not found\n",
      "\n",
      "Submitted batch job 14875342\n",
      "-rw-r--r-- 1 sschulz cgawad 0 Apr  4 14:19 /scratch/users/sschulz/pta_on_normal/fastas/CART-MRD-BALL-PTA-NEXTERA-WGS-CCT5007Pt04-D11_S74.realigned_deduped_sorted.fasta\n",
      "/scratch/users/sschulz/pta_on_normal/fastas/CART-MRD-BALL-PTA-NEXTERA-WGS-CCT5007Pt04-D11_S74.realigned_deduped_sorted.fasta\n",
      "bam2fasta.sh: line 21: -s: command not found\n",
      "\n",
      "Submitted batch job 14875343\n",
      "-rw-r--r-- 1 sschulz cgawad 0 Apr  4 14:19 /scratch/users/sschulz/pta_on_normal/fastas/CART-MRD-BALL-PTA-NEXTERA-WGS-CCT5007Pt04-D11_S74.recalibrated_realigned_deduped_sorted.fasta\n",
      "/scratch/users/sschulz/pta_on_normal/fastas/CART-MRD-BALL-PTA-NEXTERA-WGS-CCT5007Pt04-D11_S74.recalibrated_realigned_deduped_sorted.fasta\n",
      "bam2fasta.sh: line 21: -s: command not found\n",
      "\n",
      "Submitted batch job 14875344\n",
      "-rw-r--r-- 1 sschulz cgawad 0 Apr  4 14:19 /scratch/users/sschulz/pta_on_normal/fastas/CART-MRD-BALL-PTA-NEXTERA-WGS-CCT5007Pt04-D1_S4.realigned_deduped_sorted.fasta\n",
      "/scratch/users/sschulz/pta_on_normal/fastas/CART-MRD-BALL-PTA-NEXTERA-WGS-CCT5007Pt04-D1_S4.realigned_deduped_sorted.fasta\n",
      "bam2fasta.sh: line 21: -s: command not found\n",
      "\n",
      "Submitted batch job 14875345\n",
      "-rw-r--r-- 1 sschulz cgawad 0 Apr  4 14:19 /scratch/users/sschulz/pta_on_normal/fastas/CART-MRD-BALL-PTA-NEXTERA-WGS-CCT5007Pt04-D1_S4.recalibrated_realigned_deduped_sorted.fasta\n",
      "/scratch/users/sschulz/pta_on_normal/fastas/CART-MRD-BALL-PTA-NEXTERA-WGS-CCT5007Pt04-D1_S4.recalibrated_realigned_deduped_sorted.fasta\n",
      "bam2fasta.sh: line 21: -s: command not found\n",
      "\n",
      "Submitted batch job 14875346\n",
      "-rw-r--r-- 1 sschulz cgawad 0 Apr  4 14:19 /scratch/users/sschulz/pta_on_normal/fastas/CART-MRD-BALL-PTA-NEXTERA-WGS-CCT5007Pt04-D29Bulk_S80.realigned_deduped_sorted.fasta\n",
      "/scratch/users/sschulz/pta_on_normal/fastas/CART-MRD-BALL-PTA-NEXTERA-WGS-CCT5007Pt04-D29Bulk_S80.realigned_deduped_sorted.fasta\n",
      "bam2fasta.sh: line 21: -s: command not found\n",
      "\n",
      "Submitted batch job 14875347\n",
      "-rw-r--r-- 1 sschulz cgawad 0 Apr  4 14:19 /scratch/users/sschulz/pta_on_normal/fastas/CART-MRD-BALL-PTA-NEXTERA-WGS-CCT5007Pt04-D29Bulk_S80.recalibrated_realigned_deduped_sorted.fasta\n",
      "/scratch/users/sschulz/pta_on_normal/fastas/CART-MRD-BALL-PTA-NEXTERA-WGS-CCT5007Pt04-D29Bulk_S80.recalibrated_realigned_deduped_sorted.fasta\n",
      "bam2fasta.sh: line 21: -s: command not found\n",
      "\n",
      "Submitted batch job 14875348\n",
      "-rw-r--r-- 1 sschulz cgawad 0 Apr  4 14:19 /scratch/users/sschulz/pta_on_normal/fastas/CART-MRD-BALL-PTA-NEXTERA-WGS-CCT5007Pt04-D3_S18.realigned_deduped_sorted.fasta\n",
      "/scratch/users/sschulz/pta_on_normal/fastas/CART-MRD-BALL-PTA-NEXTERA-WGS-CCT5007Pt04-D3_S18.realigned_deduped_sorted.fasta\n",
      "bam2fasta.sh: line 21: -s: command not found\n",
      "\n",
      "Submitted batch job 14875349\n",
      "-rw-r--r-- 1 sschulz cgawad 0 Apr  4 14:19 /scratch/users/sschulz/pta_on_normal/fastas/CART-MRD-BALL-PTA-NEXTERA-WGS-CCT5007Pt04-D3_S18.recalibrated_realigned_deduped_sorted.fasta\n",
      "/scratch/users/sschulz/pta_on_normal/fastas/CART-MRD-BALL-PTA-NEXTERA-WGS-CCT5007Pt04-D3_S18.recalibrated_realigned_deduped_sorted.fasta\n",
      "bam2fasta.sh: line 21: -s: command not found\n",
      "\n",
      "Submitted batch job 14875350\n",
      "-rw-r--r-- 1 sschulz cgawad 0 Apr  4 14:19 /scratch/users/sschulz/pta_on_normal/fastas/CART-MRD-BALL-PTA-NEXTERA-WGS-CCT5007Pt04-D4_S26.realigned_deduped_sorted.fasta\n",
      "/scratch/users/sschulz/pta_on_normal/fastas/CART-MRD-BALL-PTA-NEXTERA-WGS-CCT5007Pt04-D4_S26.realigned_deduped_sorted.fasta\n",
      "bam2fasta.sh: line 21: -s: command not found\n",
      "\n",
      "Submitted batch job 14875351\n"
     ]
    }
   ],
   "source": [
    "if preprocess_bam:\n",
    "    preProcessBam(bam_dir, fasta_dir)"
   ]
  },
  {
   "cell_type": "code",
   "execution_count": null,
   "id": "b8d03666-0dca-4570-bffa-f849dba480d8",
   "metadata": {},
   "outputs": [
    {
     "name": "stdout",
     "output_type": "stream",
     "text": [
      "mv: cannot stat ‘/scratch/users/sschulz/pta_on_normal/fastas/*.fai’: No such file or directory\n",
      "Now collecting dataset for: /scratch/users/sschulz/pta_on_normal/fastas/CART-MRD-BALL-PTA-NEXTERA-WGS-CCT5007Pt04-A9_S57.realigned_deduped_sorted.fasta\n",
      "Now collecting dataset for: /scratch/users/sschulz/pta_on_normal/fastas/CART-MRD-BALL-PTA-NEXTERA-WGS-CCT5007Pt04-B10_S65.realigned_deduped_sorted.fasta\n"
     ]
    }
   ],
   "source": [
    "dataset_list = []\n",
    "fai_dir=fasta_dir + '/fais'\n",
    "!mkdir -p {fai_dir}\n",
    "for fasta_name in os.listdir(fasta_dir):\n",
    "    !mv {fasta_dir}/*.fai {fai_dir}\n",
    "    fasta_path=fasta_dir + '/' + fasta_name\n",
    "    if not os.path.splitext(fasta_path)[1] == 'fai':\n",
    "        print('Now collecting dataset for: ' + fasta_path)\n",
    "        dataset_list.append(makeEnformerDataset(fasta_path, hg38_bed_path))"
   ]
  },
  {
   "cell_type": "code",
   "execution_count": null,
   "id": "65306cf8-4d3b-4a27-b442-0858ea32c4ef",
   "metadata": {},
   "outputs": [],
   "source": [
    "combined_dataset = combineDatasets(dataset_list)"
   ]
  },
  {
   "cell_type": "code",
   "execution_count": null,
   "id": "b88301ea-7268-4442-b20d-0ab2cb59e9d7",
   "metadata": {},
   "outputs": [],
   "source": [
    "combined_dataset.save_to_disk(bam_dir + '/' + dataset_name)"
   ]
  },
  {
   "cell_type": "code",
   "execution_count": null,
   "id": "5524f3d4-6d96-4d7f-a828-94c98903ee77",
   "metadata": {},
   "outputs": [],
   "source": [
    "model = trainEnformerPTA(combined_datset)"
   ]
  },
  {
   "cell_type": "code",
   "execution_count": null,
   "id": "f02e1357-1b47-4853-b017-adedf9bf2ce9",
   "metadata": {},
   "outputs": [],
   "source": [
    "seq = ### enter a sequence to test\n",
    "pred = model(seq, head = 'human') # (896, 5313) ###<- what does human mean here?"
   ]
  }
 ],
 "metadata": {
  "kernelspec": {
   "display_name": "Python 3 (ipykernel)",
   "language": "python",
   "name": "python3"
  },
  "language_info": {
   "codemirror_mode": {
    "name": "ipython",
    "version": 3
   },
   "file_extension": ".py",
   "mimetype": "text/x-python",
   "name": "python",
   "nbconvert_exporter": "python",
   "pygments_lexer": "ipython3",
   "version": "3.10.8"
  }
 },
 "nbformat": 4,
 "nbformat_minor": 5
}
